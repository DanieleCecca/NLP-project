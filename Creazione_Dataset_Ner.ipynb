{
  "nbformat": 4,
  "nbformat_minor": 0,
  "metadata": {
    "colab": {
      "provenance": [],
      "authorship_tag": "ABX9TyPdE4QtxDXpRXAAewIchXNg",
      "include_colab_link": true
    },
    "kernelspec": {
      "name": "python3",
      "display_name": "Python 3"
    },
    "language_info": {
      "name": "python"
    }
  },
  "cells": [
    {
      "cell_type": "markdown",
      "metadata": {
        "id": "view-in-github",
        "colab_type": "text"
      },
      "source": [
        "<a href=\"https://colab.research.google.com/github/DanieleCecca/NLP-project/blob/main/Creazione_Dataset_Ner.ipynb\" target=\"_parent\"><img src=\"https://colab.research.google.com/assets/colab-badge.svg\" alt=\"Open In Colab\"/></a>"
      ]
    },
    {
      "cell_type": "markdown",
      "source": [
        "#NER Clinical DATASET creation\n",
        "\n",
        "\n",
        "*Daniele Cecca*\n",
        "\n",
        "*Matr. 914358*\n",
        "\n",
        "*MSc Artificial Intelligence for Science and Technology*\n",
        "\n",
        "*Email: d.cecca@campus.unimib.it*"
      ],
      "metadata": {
        "id": "CPZCKHLHwE2W"
      }
    },
    {
      "cell_type": "markdown",
      "source": [
        "The following code is useful to create the NER dataset, written in IOB format that will be useful to train BERT/BioBert models for ner task.\n",
        "\n",
        "In the first part are created the functions to extract the text from a pdf.Since the final goal is to trascript these entities in a csv file the tables will be ignored for the creation of the dataset\n",
        "\n",
        "In the second part we will call chatGpt by using API, beacuse is the only model that perform well the task by Zero-shot.\n",
        "We tried different models but it seems that the only one that works is the model with the highest number on parameters.\n",
        "Also we tried different prompt, but here we present just the final version.\n",
        "\n",
        "The entities will be the following ones:\n",
        "- **problema**\n",
        "- **esame**\n",
        "- **operazione**\n",
        "- **farmaci**"
      ],
      "metadata": {
        "id": "m-QQmi7ouXgp"
      }
    },
    {
      "cell_type": "markdown",
      "source": [
        "## Utilities"
      ],
      "metadata": {
        "id": "DzGnyBe8yyHs"
      }
    },
    {
      "cell_type": "code",
      "source": [
        "!pip install pdfplumber -q"
      ],
      "metadata": {
        "id": "F7cYmOOi0-d6"
      },
      "execution_count": 80,
      "outputs": []
    },
    {
      "cell_type": "code",
      "execution_count": 81,
      "metadata": {
        "colab": {
          "base_uri": "https://localhost:8080/"
        },
        "id": "SXl3eh88v_3w",
        "outputId": "285dda54-805b-49b9-a2e1-f1bec141da45"
      },
      "outputs": [
        {
          "output_type": "stream",
          "name": "stdout",
          "text": [
            "Mounted at /content/drive\n"
          ]
        }
      ],
      "source": [
        "from google.colab import drive\n",
        "drive.mount('/content/drive',force_remount=True)"
      ]
    },
    {
      "cell_type": "code",
      "source": [
        "import pdfplumber\n",
        "import os\n",
        "import numpy as np\n",
        "import pandas as pd\n",
        "\n",
        "import matplotlib.pyplot as plt\n",
        "import seaborn as sns\n",
        "import json\n",
        "\n",
        "import spacy\n",
        "from spacy.tokens import Doc, Span\n",
        "from spacy import displacy"
      ],
      "metadata": {
        "id": "KNh1IWPfzBy2"
      },
      "execution_count": 82,
      "outputs": []
    },
    {
      "cell_type": "code",
      "source": [
        "import logging\n",
        "logging.getLogger('pdfminer').setLevel(logging.ERROR)"
      ],
      "metadata": {
        "id": "O75k_O4rapQ_"
      },
      "execution_count": 83,
      "outputs": []
    },
    {
      "cell_type": "code",
      "source": [
        "DATA_PATH='/content/drive/MyDrive/Nlp/data/Lettera di dimissione.pdf'"
      ],
      "metadata": {
        "id": "YI9zryTv1QYO"
      },
      "execution_count": 84,
      "outputs": []
    },
    {
      "cell_type": "markdown",
      "source": [
        "### Utility functions"
      ],
      "metadata": {
        "id": "QAB8phm8FTyw"
      }
    },
    {
      "cell_type": "code",
      "source": [
        "def extract_text(file,num_pag):\n",
        "  with pdfplumber.open(DATA_PATH) as pdf:\n",
        "      page=pdf.pages[num_pag]\n",
        "      all_text=page.extract_text()\n",
        "      return all_text"
      ],
      "metadata": {
        "id": "yUJcI4qC1NGq"
      },
      "execution_count": 85,
      "outputs": []
    },
    {
      "cell_type": "code",
      "source": [
        "def extract_tables(file,num_pag):\n",
        "  with pdfplumber.open(DATA_PATH) as pdf:\n",
        "      page=pdf.pages[num_pag]\n",
        "      all_tables=page.extract_tables()\n",
        "      return all_tables"
      ],
      "metadata": {
        "id": "e36YoURv3f0r"
      },
      "execution_count": 86,
      "outputs": []
    },
    {
      "cell_type": "code",
      "source": [
        "def get_text_to_remove(all_tables):\n",
        "  text_to_remove=[]\n",
        "  if (len(all_tables)>1):\n",
        "    for i in range(0,len(all_tables)):\n",
        "      all_tables[i]=np.array(all_tables[i])\n",
        "      text_to_remove.extend([str(\" \".join(row)).replace(\" \", \"\").replace('\\n', \"\") for row in all_tables[i]])\n",
        "  else:\n",
        "    all_tables=np.array(all_tables)\n",
        "    all_tables_=all_tables.reshape(-1,np.shape(all_tables)[-1])\n",
        "    text_to_remove.extend([str(\" \".join(row)).replace(\" \", \"\").replace('\\n', \"\") for row in all_tables_])\n",
        "  return text_to_remove"
      ],
      "metadata": {
        "id": "x5QxFWy4XgO_"
      },
      "execution_count": 87,
      "outputs": []
    },
    {
      "cell_type": "code",
      "source": [
        "def remove_tables(all_text,text_to_remove):\n",
        "  clean_text=all_text\n",
        "  for row in clean_text.split('\\n'):\n",
        "    row_=row.replace(\" \", \"\")\n",
        "    row_=row_.replace('\\n', \"\")\n",
        "    if row_ in text_to_remove:\n",
        "          clean_text = clean_text.replace(row+'\\n', '')\n",
        "  return clean_text\n",
        "\n",
        "#GESTIRE CASO LIM EMOCROMO - MCHC (Conc.Emoglobinica 341 g/L 310 - 360 20/01/2025 Corpusc.Media)\n",
        "#Non viene eliminato perchè extract text and extract tables lo trascivono i 2 modi diversi, ectract tables è qiello giusto\n",
        "#Problema quando nella cella dell'excel va a capo"
      ],
      "metadata": {
        "id": "TP2VBprQJgY9"
      },
      "execution_count": 88,
      "outputs": []
    },
    {
      "cell_type": "code",
      "source": [
        "def get_cleaned_text(all_text,all_tables):\n",
        "  if len(all_tables)>0:\n",
        "    text_to_remove=get_text_to_remove(all_tables)\n",
        "    cleaned_text=remove_tables(all_text,text_to_remove)\n",
        "  else:\n",
        "    cleaned_text=all_text\n",
        "  return cleaned_text\n"
      ],
      "metadata": {
        "id": "6scBP2j7FqZs"
      },
      "execution_count": 89,
      "outputs": []
    },
    {
      "cell_type": "code",
      "source": [
        "def extract_all_pages(DATA_PATH):\n",
        "  list_cleaned_text=[]\n",
        "  with pdfplumber.open(DATA_PATH) as pdf:\n",
        "    num_pages= len(pdf.pages) #number of pages in\n",
        "    print(num_pages)\n",
        "\n",
        "    for i in range(num_pages):\n",
        "      print(\"Page: \"+str(i))\n",
        "      all_text=extract_text(DATA_PATH,i)\n",
        "      all_tables=extract_tables(DATA_PATH,i)\n",
        "      print(f\"Tables:{all_tables}\")\n",
        "      cleaned_text=get_cleaned_text(all_text,all_tables)\n",
        "      list_cleaned_text.append(cleaned_text)\n",
        "  return list_cleaned_text"
      ],
      "metadata": {
        "id": "fG2rL17zimxY"
      },
      "execution_count": 90,
      "outputs": []
    },
    {
      "cell_type": "markdown",
      "source": [
        "## Extraction Data from PDF"
      ],
      "metadata": {
        "id": "mR2pt26SRqW2"
      }
    },
    {
      "cell_type": "code",
      "source": [
        "all_text=extract_text(DATA_PATH,5)\n",
        "all_tables=extract_tables(DATA_PATH,5)"
      ],
      "metadata": {
        "collapsed": true,
        "id": "SNjzH50A31HI"
      },
      "execution_count": 91,
      "outputs": []
    },
    {
      "cell_type": "code",
      "source": [
        "print(all_text)\n",
        "print(all_tables)"
      ],
      "metadata": {
        "colab": {
          "base_uri": "https://localhost:8080/"
        },
        "collapsed": true,
        "id": "F3_uehU937kv",
        "outputId": "f2bebf52-f123-4f17-c6da-5873941f6295"
      },
      "execution_count": 92,
      "outputs": [
        {
          "output_type": "stream",
          "name": "stdout",
          "text": [
            "RELAZIONE CLINICA alla DIMISSIONE - Definitiva\n",
            "Esame/Prestazione Valore Unità di misura Intervallo Data\n",
            "S-UREA 58 mg/dL 10 - 50 27/01/2025\n",
            "S-BILIRUBINA INDIRETTA 0.24 mg/dL 0.01 - 0.8 27/01/2025\n",
            "S-BILIRUBINA TOTALE 0.41 mg/dL 0.1 - 1 27/01/2025\n",
            "S-BILIRUBINA DIRETTA 0.17 mg/dL 0.01 - 0.25 27/01/2025\n",
            "S-SODIO 138.8 mmol/L 135 - 148 27/01/2025\n",
            "S-POTASSIO 4.37 mmol/L 3.5 - 5 27/01/2025\n",
            "S-CALCIO 2.14 mmol/L 2.1 - 2.6 27/01/2025\n",
            "S-CREATINFOSFOCHINASI 308 U/L 20 - 195 27/01/2025\n",
            "S-PROPEPTIDE NATRIURETICO NT-proBNP 816 pg/mL 0 - 227 27/01/2025\n",
            "S-ASPARTATO AMINOTRANSFERASI 32 U/L 5 - 35 27/01/2025\n",
            "S-ALANINA AMINOTRANSFERASI 33 U/L 6 - 59 27/01/2025\n",
            "S-LATTICODEIDROGENASI 294 U/L 125 - 220 27/01/2025\n",
            "S-PROTEINA C REATTIVA 51.2 mg/L < 6 27/01/2025\n",
            "S-TROPONINA T 310 ng/L < 14 27/01/2025\n",
            "S-CREATININA 1.05 mg/dL 0.5 - 1.25 27/01/2025\n",
            "PT vers.2 - Secondi 8.93 Secondi 27/01/2025\n",
            "PT vers.2 - Rapporto 0.91 0.85 - 1.15 27/01/2025\n",
            "PT vers.2 - INR -International Normalized Ratio- 0.92 27/01/2025\n",
            "APTT vers.2 - Secondi 30 Secondi 27/01/2025\n",
            "APTT vers.2 - Rapporto 0.99 0.73 - 1.27 27/01/2025\n",
            "COROAG - materiale esaminato Tampone nasale 27/01/2025\n",
            "COROAG - esito Negativo 27/01/2025\n",
            "S-PROTEINE TOTALI 53.7 g/L 60 - 80 27/01/2025\n",
            "Esami strumentali e visite specialistiche\n",
            "Esame/Prestazione Data\n",
            "ECOCARDIOGRAMMA + DOPPLER 27/01/2025\n",
            "RX TORACE 24/01/2025\n",
            "RX TORACE 23/01/2025\n",
            "RX TORACE 22/01/2025\n",
            "RX TORACE 22/01/2025\n",
            "RX TORACE 21/01/2025\n",
            "ECOCARDIOGRAMMA + DOPPLER 20/01/2025\n",
            "ECOCARDIOGRAMMA + DOPPLER 20/01/2025\n",
            "ECOCARDIOGRAMMA + DOPPLER 20/01/2025\n",
            "ECOCARDIOGRAMMA + DOPPLER 20/01/2025\n",
            "CAECOR-Coronarografia-88.56 20/01/2025\n",
            "PROCEDURA EMODINAMICA 20/01/2025\n",
            "CAEASC-Aortografia ascendente-88.42 20/01/2025\n",
            "Condizione cliniche alla dimissione\n",
            "Discrete condizioni generali.\n",
            "Terapia al domicilio\n",
            "DSAN 035/4 convalidato\n",
            "Numero Cartella 2025003002\n",
            "stampato27/01/2025 10:53 Pag 6 / 7\n",
            "Referto firmato digitalmente secondo la norma vigente.(cid:9) Firmatario NASCIMBENE SIMONA IRENE ROSA.\n",
            "Data e ora della firma: 27/01/2025 10.53.30.\n",
            "[[['S-UREA', '58', 'mg/dL', '10 - 50', '27/01/2025'], ['S-BILIRUBINA INDIRETTA', '0.24', 'mg/dL', '0.01 - 0.8', '27/01/2025'], ['S-BILIRUBINA TOTALE', '0.41', 'mg/dL', '0.1 - 1', '27/01/2025'], ['S-BILIRUBINA DIRETTA', '0.17', 'mg/dL', '0.01 - 0.25', '27/01/2025'], ['S-SODIO', '138.8', 'mmol/L', '135 - 148', '27/01/2025'], ['S-POTASSIO', '4.37', 'mmol/L', '3.5 - 5', '27/01/2025'], ['S-CALCIO', '2.14', 'mmol/L', '2.1 - 2.6', '27/01/2025'], ['S-CREATINFOSFOCHINASI', '308', 'U/L', '20 - 195', '27/01/2025'], ['S-PROPEPTIDE NATRIURETICO NT-proBNP', '816', 'pg/mL', '0 - 227', '27/01/2025'], ['S-ASPARTATO AMINOTRANSFERASI', '32', 'U/L', '5 - 35', '27/01/2025'], ['S-ALANINA AMINOTRANSFERASI', '33', 'U/L', '6 - 59', '27/01/2025'], ['S-LATTICODEIDROGENASI', '294', 'U/L', '125 - 220', '27/01/2025'], ['S-PROTEINA C REATTIVA', '51.2', 'mg/L', '< 6', '27/01/2025'], ['S-TROPONINA T', '310', 'ng/L', '< 14', '27/01/2025'], ['S-CREATININA', '1.05', 'mg/dL', '0.5 - 1.25', '27/01/2025'], ['PT vers.2 - Secondi', '8.93', 'Secondi', '', '27/01/2025'], ['PT vers.2 - Rapporto', '0.91', '', '0.85 - 1.15', '27/01/2025'], ['PT vers.2 - INR -International Normalized Ratio-', '0.92', '', '', '27/01/2025'], ['APTT vers.2 - Secondi', '30', 'Secondi', '', '27/01/2025'], ['APTT vers.2 - Rapporto', '0.99', '', '0.73 - 1.27', '27/01/2025'], ['COROAG - materiale esaminato', 'Tampone nasale', '', '', '27/01/2025'], ['COROAG - esito', 'Negativo', '', '', '27/01/2025'], ['S-PROTEINE TOTALI', '53.7', 'g/L', '60 - 80', '27/01/2025']], [['Esame/Prestazione', 'Data'], ['ECOCARDIOGRAMMA + DOPPLER', '27/01/2025'], ['RX TORACE', '24/01/2025'], ['RX TORACE', '23/01/2025'], ['RX TORACE', '22/01/2025'], ['RX TORACE', '22/01/2025'], ['RX TORACE', '21/01/2025'], ['ECOCARDIOGRAMMA + DOPPLER', '20/01/2025'], ['ECOCARDIOGRAMMA + DOPPLER', '20/01/2025'], ['ECOCARDIOGRAMMA + DOPPLER', '20/01/2025'], ['ECOCARDIOGRAMMA + DOPPLER', '20/01/2025'], ['CAECOR-Coronarografia-88.56', '20/01/2025'], ['PROCEDURA EMODINAMICA', '20/01/2025'], ['CAEASC-Aortografia ascendente-88.42', '20/01/2025']]]\n"
          ]
        }
      ]
    },
    {
      "cell_type": "code",
      "source": [
        "cleaned_text=get_cleaned_text(all_text,all_tables)"
      ],
      "metadata": {
        "id": "AbqyzqpMGiD6"
      },
      "execution_count": 93,
      "outputs": []
    },
    {
      "cell_type": "code",
      "source": [
        "print(cleaned_text)"
      ],
      "metadata": {
        "colab": {
          "base_uri": "https://localhost:8080/"
        },
        "id": "PNXcXvIKGmuF",
        "outputId": "a8ee729e-2961-4edd-d010-f24d10bea213"
      },
      "execution_count": 94,
      "outputs": [
        {
          "output_type": "stream",
          "name": "stdout",
          "text": [
            "RELAZIONE CLINICA alla DIMISSIONE - Definitiva\n",
            "Esame/Prestazione Valore Unità di misura Intervallo Data\n",
            "Esami strumentali e visite specialistiche\n",
            "Condizione cliniche alla dimissione\n",
            "Discrete condizioni generali.\n",
            "Terapia al domicilio\n",
            "DSAN 035/4 convalidato\n",
            "Numero Cartella 2025003002\n",
            "stampato27/01/2025 10:53 Pag 6 / 7\n",
            "Referto firmato digitalmente secondo la norma vigente.(cid:9) Firmatario NASCIMBENE SIMONA IRENE ROSA.\n",
            "Data e ora della firma: 27/01/2025 10.53.30.\n"
          ]
        }
      ]
    },
    {
      "cell_type": "code",
      "source": [
        "list_cleaned_text_all=extract_all_pages(DATA_PATH)"
      ],
      "metadata": {
        "colab": {
          "base_uri": "https://localhost:8080/"
        },
        "id": "adFTw5ykiytK",
        "outputId": "6f74820c-e541-47c5-f835-6738b032dd53"
      },
      "execution_count": 95,
      "outputs": [
        {
          "output_type": "stream",
          "name": "stdout",
          "text": [
            "7\n",
            "Page: 0\n",
            "Tables:[]\n",
            "Page: 1\n",
            "Tables:[]\n",
            "Page: 2\n",
            "Tables:[[['Gruppo sanguigno', '0', '', '', '20/01/2025'], ['Fattore RH', 'Positivo', '', '', '20/01/2025'], ['Ricerca Anticorpi Irregolari', 'Negativo', '', '', '20/01/2025'], ['Numero riferimento', '2502542', '', '', '20/01/2025'], ['EMOCROMO - Globuli bianchi', '6.5', '10^9/L', '4.8 - 10.8', '20/01/2025'], ['EMOCROMO - Globuli rossi', '4.78', '10^12/L', '4.7 - 6.1', '20/01/2025'], ['EMOCROMO - Ematocrito', '43.4', '%', '42 - 52', '20/01/2025'], ['EMOCROMO - MCV (Volume Globulare Medio)', '90.8', 'fL', '80 - 94', '20/01/2025'], ['EMOCROMO - MCH (Emoglobina Corpuscolare Media)', '31.0', 'pg/Cell', '27 - 34', '20/01/2025'], ['EMOCROMO - RDW (Ind.Distribuzione Eritrocitaria)', '12.6', 'CV %', '11.5 - 14.5', '20/01/2025'], ['PIASTRINE - Piastrine', '180', '10^9/L', '130 - 400', '20/01/2025'], ['PIASTRINE - MPV (Volume Piastrinico Medio)', '9.6', 'fL', '9.1 - 12.5', '20/01/2025'], ['FORMULA - Neutrofili', '56.1', '%', '40 - 75', '20/01/2025'], ['FORMULA - Linfociti', '34.2', '%', '20 - 50', '20/01/2025'], ['FORMULA - Monociti', '6.9', '%', '2 - 15', '20/01/2025'], ['FORMULA - Eosinofili', '2.5', '%', '1 - 6', '20/01/2025'], ['FORMULA - Basofili', '0.3', '%', '0 - 2', '20/01/2025'], ['FORMULA - Neutrofili', '3.6', '10^9/L', '1.8 - 7.7', '20/01/2025'], ['FORMULA - Linfociti', '2.2', '10^9/L', '1 - 4.8', '20/01/2025'], ['FORMULA - Monociti', '0.4', '10^9/L', '0.2 - 0.8', '20/01/2025'], ['FORMULA - Eosinofili', '0.2', '10^9/L', '0 - 0.45', '20/01/2025'], ['FORMULA - Basofili', '0', '10^9/L', '0 - 0.2', '20/01/2025'], ['FORMULA - Note', '.', '', '', '20/01/2025'], ['FORMULA - .', '.', '', '', '20/01/2025'], ['EMOCROMO - Emoglobina', '148', 'g/L', '140 - 180', '20/01/2025'], ['EMOCROMO - MCHC (Conc.Emoglobinica\\nCorpusc.Media)', '341', 'g/L', '310 - 360', '20/01/2025'], ['S-GLUCOSIO', '87', 'mg/dL', '60 - 100', '20/01/2025'], ['S-UREA', '33', 'mg/dL', '10 - 50', '20/01/2025'], ['S-BILIRUBINA INDIRETTA', '0.42', 'mg/dL', '0.01 - 0.8', '20/01/2025'], ['S-ACIDO URICO', '5.4', 'mg/dL', '2.5 - 7', '20/01/2025'], ['S-BILIRUBINA TOTALE', '0.63', 'mg/dL', '0.1 - 1', '20/01/2025'], ['S-BILIRUBINA DIRETTA', '0.21', 'mg/dL', '0.01 - 0.25', '20/01/2025'], ['S-SODIO', '145.3', 'mmol/L', '135 - 148', '20/01/2025'], ['S-POTASSIO', '4.42', 'mmol/L', '3.5 - 5', '20/01/2025']]]\n",
            "Page: 3\n",
            "Tables:[[['S-CALCIO', '2.34', 'mmol/L', '2.1 - 2.6', '20/01/2025'], ['S-MAGNESIO', '0.8', 'mmol/L', '0.7 - 1', '20/01/2025'], ['S-FERRO', '91', 'µg/dL', '65 - 170', '20/01/2025'], ['S-TRANSFERRINA', '2.44', 'g/L', '2 - 3.3', '20/01/2025'], ['S-COLINESTERASI', '10.51', 'kU/L', '5.4 - 13.2', '20/01/2025'], ['S-CREATINFOSFOCHINASI', '194', 'U/L', '20 - 195', '20/01/2025'], ['S-PROPEPTIDE NATRIURETICO NT-proBNP', '504', 'pg/mL', '0 - 227', '20/01/2025'], ['S-ASPARTATO AMINOTRANSFERASI', '33', 'U/L', '5 - 35', '20/01/2025'], ['S-ALANINA AMINOTRANSFERASI', '51', 'U/L', '6 - 59', '20/01/2025'], ['S-GAMMAGLUTAMILTRANSFERASI', '17', 'U/L', '11 - 68', '20/01/2025'], ['S-LATTICODEIDROGENASI', '274', 'U/L', '125 - 220', '20/01/2025'], ['S-ALDOLASI', '7.3', 'U/L', '< 7.5', '20/01/2025'], ['S-PROTEINA C REATTIVA', '1.5', 'mg/L', '< 6', '20/01/2025'], ['S-TITOLO ANTISTREPTOLISINICO', '42', 'IU/mL', '20 - 250', '20/01/2025'], [\"S-OSMOLALITA'\", '288', 'mOsm/Kg', '280 - 295', '20/01/2025'], ['S-COLESTEROLO', '166', 'mg/dL', '< 190', '20/01/2025'], ['S-TRIGLICERIDI', '106', 'mg/dL', '< 150', '20/01/2025'], ['S-TROPONINA T', '29.8', 'ng/L', '< 14', '20/01/2025'], ['Sg-EMOGLOBINA GLICATA (HbA1c)', '34', 'mmol/mol', '20 - 42', '20/01/2025'], ['S-FOSFATASI ALCALINA', '76', 'U/L', '43 - 119', '20/01/2025'], ['S-CREATININA', '0.97', 'mg/dL', '0.5 - 1.25', '20/01/2025'], ['URINE - U-Colore', 'Giallo\\nPaglierino', '', '', '20/01/2025'], ['URINE - U-Aspetto', 'Limpido', '', '', '20/01/2025'], ['URINE - U-pH', '5.0', 'U', '5 - 6.5', '20/01/2025'], ['URINE - U-Densità relativa', '1.035', '', '1.005 - 1.03', '20/01/2025'], ['URINE - U-Glucosio', '0', 'mg/dL', '0 - 15', '20/01/2025'], ['URINE - U-Chetoni', '0', 'mg/dL', '0 - 0', '20/01/2025'], ['URINE - U-Proteine', '0', 'mg/dL', '0 - 15', '20/01/2025'], ['URINE - U-Emoglobina', '0.03', 'mg/dL', '0 - 0', '20/01/2025'], ['URINE - U-Leucociti', 'Assenti', '', 'Assenti', '20/01/2025'], ['URINE - U-Nitriti', 'Negativo', '', 'Negativo', '20/01/2025'], ['URINE - U-Bilirubina', 'Negativa', '', 'Negativo', '20/01/2025'], ['URINE - U-Urobilinogeno', '0.2', 'EU/dL', '0 - 0.2', '20/01/2025'], ['SEDIMENTO - Esame microscopico:', '.', '', '', '20/01/2025'], ['SEDIMENTO - U-Batteri', '.', '', '', '20/01/2025'], ['SEDIMENTO - U-Batteri', '.', '/µL', '', '20/01/2025'], ['SEDIMENTO - U-Cellule squamose basse vie', '.', '', '', '20/01/2025'], ['SEDIMENTO - U-Cellule squamose basse vie', '.', '/µL', '', '20/01/2025'], ['SEDIMENTO - U-Cilindri', '.', '', '', '20/01/2025'], ['SEDIMENTO - U-Cilindri', '.', '/µL', '', '20/01/2025'], ['SEDIMENTO - U-Cristalli', '.', '', '', '20/01/2025'], ['SEDIMENTO - U-Cristalli', '.', '/µL', '', '20/01/2025']]]\n",
            "Page: 4\n",
            "Tables:[[['SEDIMENTO - U-Eritrociti', '.', '', '', '20/01/2025'], ['SEDIMENTO - U-Eritrociti', '22', '/µL', '', '20/01/2025'], ['SEDIMENTO - U-Leucociti', '.', '', '', '20/01/2025'], ['SEDIMENTO - U-Leucociti', '.', '/µL', '', '20/01/2025'], ['SEDIMENTO - U-Miceti', '.', '/µL', '', '20/01/2025'], ['SEDIMENTO - U-Spermatozoi', '.', '/µL', '', '20/01/2025'], ['SEDIMENTO - U-Cellule alte vie (transizionali)', '.', '/µL', '', '20/01/2025'], ['PT vers.2 - Secondi', '9.09', 'Secondi', '', '20/01/2025'], ['PT vers.2 - Rapporto', '0.93', '', '0.85 - 1.15', '20/01/2025'], ['PT vers.2 - INR -International Normalized Ratio-', '0.93', '', '', '20/01/2025'], ['P-ANTITROMBINA', '100', '%', '70 - 130', '20/01/2025'], ['APTT vers.2 - Secondi', '33.1', 'Secondi', '', '20/01/2025'], ['APTT vers.2 - Rapporto', '1.09', '', '0.73 - 1.27', '20/01/2025'], ['S-Anti HAV anticorpi IgM', 'Negativo', '', 'Negativo', '20/01/2025'], ['S-Anti Treponema pallidum anticorpi totali', 'Negativo', '', 'Negativo', '20/01/2025'], ['S-PROTEINE TOTALI', '69', 'g/L', '60 - 80', '20/01/2025'], ['Albumina', '61.8', '%', '55.8 - 66.1', '20/01/2025'], ['Alfa 1 globuline', '3.9', '%', '2.9 - 4.9', '20/01/2025'], ['Alfa 2 globuline', '7.6', '%', '7.1 - 11.8', '20/01/2025'], ['Beta 1 globuline', '5.7', '%', '4.7 - 7.2', '20/01/2025'], ['Beta 2 globuline', '4.7', '%', '3.2 - 6.5', '20/01/2025'], ['Gamma globuline', '16.3', '%', '11.1 - 18.8', '20/01/2025'], ['Albumina', '42.64', 'g/L', '', '20/01/2025'], ['Alfa 1 globuline', '2.69', 'g/L', '', '20/01/2025'], ['Alfa 2 globuline', '5.24', 'g/L', '', '20/01/2025'], ['Beta 1 globuline', '3.93', 'g/L', '', '20/01/2025'], ['Beta 2 globuline', '3.24', 'g/L', '', '20/01/2025'], ['Gamma globuline', '11.25', 'g/L', '', '20/01/2025'], ['Valutazione morfologica del tracciato', 'Non alterazioni\\nmonoclonali', '', '', '20/01/2025'], ['.', '.', '', '', '20/01/2025'], ['Rapporto Albumina/Globuline', '1.62', '', '', '20/01/2025'], ['EMOCROMO - Globuli bianchi', '9.8', '10^9/L', '4.8 - 10.8', '27/01/2025'], ['EMOCROMO - Globuli rossi', '3.10', '10^12/L', '4.7 - 6.1', '27/01/2025'], ['EMOCROMO - Ematocrito', '28.0', '%', '42 - 52', '27/01/2025'], ['EMOCROMO - MCV (Volume Globulare Medio)', '90.3', 'fL', '80 - 94', '27/01/2025'], ['EMOCROMO - MCH (Emoglobina Corpuscolare Media)', '30.3', 'pg/Cell', '27 - 34', '27/01/2025'], ['EMOCROMO - RDW (Ind.Distribuzione Eritrocitaria)', '12.7', 'CV %', '11.5 - 14.5', '27/01/2025'], ['PIASTRINE - Piastrine', '157', '10^9/L', '130 - 400', '27/01/2025'], ['PIASTRINE - MPV (Volume Piastrinico Medio)', '9.6', 'fL', '9.1 - 12.5', '27/01/2025'], ['EMOCROMO - Emoglobina', '94', 'g/L', '140 - 180', '27/01/2025'], ['EMOCROMO - MCHC (Conc.Emoglobinica\\nCorpusc.Media)', '336', 'g/L', '310 - 360', '27/01/2025'], ['S-GLUCOSIO', '100', 'mg/dL', '60 - 100', '27/01/2025']]]\n",
            "Page: 5\n",
            "Tables:[[['S-UREA', '58', 'mg/dL', '10 - 50', '27/01/2025'], ['S-BILIRUBINA INDIRETTA', '0.24', 'mg/dL', '0.01 - 0.8', '27/01/2025'], ['S-BILIRUBINA TOTALE', '0.41', 'mg/dL', '0.1 - 1', '27/01/2025'], ['S-BILIRUBINA DIRETTA', '0.17', 'mg/dL', '0.01 - 0.25', '27/01/2025'], ['S-SODIO', '138.8', 'mmol/L', '135 - 148', '27/01/2025'], ['S-POTASSIO', '4.37', 'mmol/L', '3.5 - 5', '27/01/2025'], ['S-CALCIO', '2.14', 'mmol/L', '2.1 - 2.6', '27/01/2025'], ['S-CREATINFOSFOCHINASI', '308', 'U/L', '20 - 195', '27/01/2025'], ['S-PROPEPTIDE NATRIURETICO NT-proBNP', '816', 'pg/mL', '0 - 227', '27/01/2025'], ['S-ASPARTATO AMINOTRANSFERASI', '32', 'U/L', '5 - 35', '27/01/2025'], ['S-ALANINA AMINOTRANSFERASI', '33', 'U/L', '6 - 59', '27/01/2025'], ['S-LATTICODEIDROGENASI', '294', 'U/L', '125 - 220', '27/01/2025'], ['S-PROTEINA C REATTIVA', '51.2', 'mg/L', '< 6', '27/01/2025'], ['S-TROPONINA T', '310', 'ng/L', '< 14', '27/01/2025'], ['S-CREATININA', '1.05', 'mg/dL', '0.5 - 1.25', '27/01/2025'], ['PT vers.2 - Secondi', '8.93', 'Secondi', '', '27/01/2025'], ['PT vers.2 - Rapporto', '0.91', '', '0.85 - 1.15', '27/01/2025'], ['PT vers.2 - INR -International Normalized Ratio-', '0.92', '', '', '27/01/2025'], ['APTT vers.2 - Secondi', '30', 'Secondi', '', '27/01/2025'], ['APTT vers.2 - Rapporto', '0.99', '', '0.73 - 1.27', '27/01/2025'], ['COROAG - materiale esaminato', 'Tampone nasale', '', '', '27/01/2025'], ['COROAG - esito', 'Negativo', '', '', '27/01/2025'], ['S-PROTEINE TOTALI', '53.7', 'g/L', '60 - 80', '27/01/2025']], [['Esame/Prestazione', 'Data'], ['ECOCARDIOGRAMMA + DOPPLER', '27/01/2025'], ['RX TORACE', '24/01/2025'], ['RX TORACE', '23/01/2025'], ['RX TORACE', '22/01/2025'], ['RX TORACE', '22/01/2025'], ['RX TORACE', '21/01/2025'], ['ECOCARDIOGRAMMA + DOPPLER', '20/01/2025'], ['ECOCARDIOGRAMMA + DOPPLER', '20/01/2025'], ['ECOCARDIOGRAMMA + DOPPLER', '20/01/2025'], ['ECOCARDIOGRAMMA + DOPPLER', '20/01/2025'], ['CAECOR-Coronarografia-88.56', '20/01/2025'], ['PROCEDURA EMODINAMICA', '20/01/2025'], ['CAEASC-Aortografia ascendente-88.42', '20/01/2025']]]\n",
            "Page: 6\n",
            "Tables:[[['Principio attivo', 'Nome farmaco', 'Posologia', 'Note'], ['PANTOPRAZOLO SODICO SESQUIDRATO', 'PANTORC*28CPR GASTR 40MG', '1cp ore 8', ''], ['ACIDO ACETILSALICILICO', 'CARDIOASPIRIN*30CPR GAST 100MG', '1cp ore 14', ''], ['BISOPROLOLO FUMARATO', 'BISOPROLOLO ALM*28CPR RIV2,5MG', '1cp ore e 1/2cp ore 20', ''], ['FUROSEMIDE/SPIRONOLATTONE', 'LASITONE*20CPS 25MG+37MG', '1cp ore 8', '']]]\n"
          ]
        }
      ]
    },
    {
      "cell_type": "code",
      "source": [
        "df_all_pages=pd.DataFrame(list_cleaned_text_all,columns=['text'])\n",
        "df_all_pages.head()"
      ],
      "metadata": {
        "colab": {
          "base_uri": "https://localhost:8080/",
          "height": 206
        },
        "id": "fJMRhQqejG2I",
        "outputId": "6719ae49-ab95-448c-f475-246da1538469"
      },
      "execution_count": 96,
      "outputs": [
        {
          "output_type": "execute_result",
          "data": {
            "text/plain": [
              "                                                text\n",
              "0  Dipartimento Cardiotoracovascolare\\nU.O. Cardi...\n",
              "1  RELAZIONE CLINICA alla DIMISSIONE - Definitiva...\n",
              "2  RELAZIONE CLINICA alla DIMISSIONE - Definitiva...\n",
              "3  RELAZIONE CLINICA alla DIMISSIONE - Definitiva...\n",
              "4  RELAZIONE CLINICA alla DIMISSIONE - Definitiva..."
            ],
            "text/html": [
              "\n",
              "  <div id=\"df-7050e41f-e387-44ee-ae18-1b613aad64da\" class=\"colab-df-container\">\n",
              "    <div>\n",
              "<style scoped>\n",
              "    .dataframe tbody tr th:only-of-type {\n",
              "        vertical-align: middle;\n",
              "    }\n",
              "\n",
              "    .dataframe tbody tr th {\n",
              "        vertical-align: top;\n",
              "    }\n",
              "\n",
              "    .dataframe thead th {\n",
              "        text-align: right;\n",
              "    }\n",
              "</style>\n",
              "<table border=\"1\" class=\"dataframe\">\n",
              "  <thead>\n",
              "    <tr style=\"text-align: right;\">\n",
              "      <th></th>\n",
              "      <th>text</th>\n",
              "    </tr>\n",
              "  </thead>\n",
              "  <tbody>\n",
              "    <tr>\n",
              "      <th>0</th>\n",
              "      <td>Dipartimento Cardiotoracovascolare\\nU.O. Cardi...</td>\n",
              "    </tr>\n",
              "    <tr>\n",
              "      <th>1</th>\n",
              "      <td>RELAZIONE CLINICA alla DIMISSIONE - Definitiva...</td>\n",
              "    </tr>\n",
              "    <tr>\n",
              "      <th>2</th>\n",
              "      <td>RELAZIONE CLINICA alla DIMISSIONE - Definitiva...</td>\n",
              "    </tr>\n",
              "    <tr>\n",
              "      <th>3</th>\n",
              "      <td>RELAZIONE CLINICA alla DIMISSIONE - Definitiva...</td>\n",
              "    </tr>\n",
              "    <tr>\n",
              "      <th>4</th>\n",
              "      <td>RELAZIONE CLINICA alla DIMISSIONE - Definitiva...</td>\n",
              "    </tr>\n",
              "  </tbody>\n",
              "</table>\n",
              "</div>\n",
              "    <div class=\"colab-df-buttons\">\n",
              "\n",
              "  <div class=\"colab-df-container\">\n",
              "    <button class=\"colab-df-convert\" onclick=\"convertToInteractive('df-7050e41f-e387-44ee-ae18-1b613aad64da')\"\n",
              "            title=\"Convert this dataframe to an interactive table.\"\n",
              "            style=\"display:none;\">\n",
              "\n",
              "  <svg xmlns=\"http://www.w3.org/2000/svg\" height=\"24px\" viewBox=\"0 -960 960 960\">\n",
              "    <path d=\"M120-120v-720h720v720H120Zm60-500h600v-160H180v160Zm220 220h160v-160H400v160Zm0 220h160v-160H400v160ZM180-400h160v-160H180v160Zm440 0h160v-160H620v160ZM180-180h160v-160H180v160Zm440 0h160v-160H620v160Z\"/>\n",
              "  </svg>\n",
              "    </button>\n",
              "\n",
              "  <style>\n",
              "    .colab-df-container {\n",
              "      display:flex;\n",
              "      gap: 12px;\n",
              "    }\n",
              "\n",
              "    .colab-df-convert {\n",
              "      background-color: #E8F0FE;\n",
              "      border: none;\n",
              "      border-radius: 50%;\n",
              "      cursor: pointer;\n",
              "      display: none;\n",
              "      fill: #1967D2;\n",
              "      height: 32px;\n",
              "      padding: 0 0 0 0;\n",
              "      width: 32px;\n",
              "    }\n",
              "\n",
              "    .colab-df-convert:hover {\n",
              "      background-color: #E2EBFA;\n",
              "      box-shadow: 0px 1px 2px rgba(60, 64, 67, 0.3), 0px 1px 3px 1px rgba(60, 64, 67, 0.15);\n",
              "      fill: #174EA6;\n",
              "    }\n",
              "\n",
              "    .colab-df-buttons div {\n",
              "      margin-bottom: 4px;\n",
              "    }\n",
              "\n",
              "    [theme=dark] .colab-df-convert {\n",
              "      background-color: #3B4455;\n",
              "      fill: #D2E3FC;\n",
              "    }\n",
              "\n",
              "    [theme=dark] .colab-df-convert:hover {\n",
              "      background-color: #434B5C;\n",
              "      box-shadow: 0px 1px 3px 1px rgba(0, 0, 0, 0.15);\n",
              "      filter: drop-shadow(0px 1px 2px rgba(0, 0, 0, 0.3));\n",
              "      fill: #FFFFFF;\n",
              "    }\n",
              "  </style>\n",
              "\n",
              "    <script>\n",
              "      const buttonEl =\n",
              "        document.querySelector('#df-7050e41f-e387-44ee-ae18-1b613aad64da button.colab-df-convert');\n",
              "      buttonEl.style.display =\n",
              "        google.colab.kernel.accessAllowed ? 'block' : 'none';\n",
              "\n",
              "      async function convertToInteractive(key) {\n",
              "        const element = document.querySelector('#df-7050e41f-e387-44ee-ae18-1b613aad64da');\n",
              "        const dataTable =\n",
              "          await google.colab.kernel.invokeFunction('convertToInteractive',\n",
              "                                                    [key], {});\n",
              "        if (!dataTable) return;\n",
              "\n",
              "        const docLinkHtml = 'Like what you see? Visit the ' +\n",
              "          '<a target=\"_blank\" href=https://colab.research.google.com/notebooks/data_table.ipynb>data table notebook</a>'\n",
              "          + ' to learn more about interactive tables.';\n",
              "        element.innerHTML = '';\n",
              "        dataTable['output_type'] = 'display_data';\n",
              "        await google.colab.output.renderOutput(dataTable, element);\n",
              "        const docLink = document.createElement('div');\n",
              "        docLink.innerHTML = docLinkHtml;\n",
              "        element.appendChild(docLink);\n",
              "      }\n",
              "    </script>\n",
              "  </div>\n",
              "\n",
              "\n",
              "<div id=\"df-c8d8a562-af81-4d31-959c-342f236b4dd2\">\n",
              "  <button class=\"colab-df-quickchart\" onclick=\"quickchart('df-c8d8a562-af81-4d31-959c-342f236b4dd2')\"\n",
              "            title=\"Suggest charts\"\n",
              "            style=\"display:none;\">\n",
              "\n",
              "<svg xmlns=\"http://www.w3.org/2000/svg\" height=\"24px\"viewBox=\"0 0 24 24\"\n",
              "     width=\"24px\">\n",
              "    <g>\n",
              "        <path d=\"M19 3H5c-1.1 0-2 .9-2 2v14c0 1.1.9 2 2 2h14c1.1 0 2-.9 2-2V5c0-1.1-.9-2-2-2zM9 17H7v-7h2v7zm4 0h-2V7h2v10zm4 0h-2v-4h2v4z\"/>\n",
              "    </g>\n",
              "</svg>\n",
              "  </button>\n",
              "\n",
              "<style>\n",
              "  .colab-df-quickchart {\n",
              "      --bg-color: #E8F0FE;\n",
              "      --fill-color: #1967D2;\n",
              "      --hover-bg-color: #E2EBFA;\n",
              "      --hover-fill-color: #174EA6;\n",
              "      --disabled-fill-color: #AAA;\n",
              "      --disabled-bg-color: #DDD;\n",
              "  }\n",
              "\n",
              "  [theme=dark] .colab-df-quickchart {\n",
              "      --bg-color: #3B4455;\n",
              "      --fill-color: #D2E3FC;\n",
              "      --hover-bg-color: #434B5C;\n",
              "      --hover-fill-color: #FFFFFF;\n",
              "      --disabled-bg-color: #3B4455;\n",
              "      --disabled-fill-color: #666;\n",
              "  }\n",
              "\n",
              "  .colab-df-quickchart {\n",
              "    background-color: var(--bg-color);\n",
              "    border: none;\n",
              "    border-radius: 50%;\n",
              "    cursor: pointer;\n",
              "    display: none;\n",
              "    fill: var(--fill-color);\n",
              "    height: 32px;\n",
              "    padding: 0;\n",
              "    width: 32px;\n",
              "  }\n",
              "\n",
              "  .colab-df-quickchart:hover {\n",
              "    background-color: var(--hover-bg-color);\n",
              "    box-shadow: 0 1px 2px rgba(60, 64, 67, 0.3), 0 1px 3px 1px rgba(60, 64, 67, 0.15);\n",
              "    fill: var(--button-hover-fill-color);\n",
              "  }\n",
              "\n",
              "  .colab-df-quickchart-complete:disabled,\n",
              "  .colab-df-quickchart-complete:disabled:hover {\n",
              "    background-color: var(--disabled-bg-color);\n",
              "    fill: var(--disabled-fill-color);\n",
              "    box-shadow: none;\n",
              "  }\n",
              "\n",
              "  .colab-df-spinner {\n",
              "    border: 2px solid var(--fill-color);\n",
              "    border-color: transparent;\n",
              "    border-bottom-color: var(--fill-color);\n",
              "    animation:\n",
              "      spin 1s steps(1) infinite;\n",
              "  }\n",
              "\n",
              "  @keyframes spin {\n",
              "    0% {\n",
              "      border-color: transparent;\n",
              "      border-bottom-color: var(--fill-color);\n",
              "      border-left-color: var(--fill-color);\n",
              "    }\n",
              "    20% {\n",
              "      border-color: transparent;\n",
              "      border-left-color: var(--fill-color);\n",
              "      border-top-color: var(--fill-color);\n",
              "    }\n",
              "    30% {\n",
              "      border-color: transparent;\n",
              "      border-left-color: var(--fill-color);\n",
              "      border-top-color: var(--fill-color);\n",
              "      border-right-color: var(--fill-color);\n",
              "    }\n",
              "    40% {\n",
              "      border-color: transparent;\n",
              "      border-right-color: var(--fill-color);\n",
              "      border-top-color: var(--fill-color);\n",
              "    }\n",
              "    60% {\n",
              "      border-color: transparent;\n",
              "      border-right-color: var(--fill-color);\n",
              "    }\n",
              "    80% {\n",
              "      border-color: transparent;\n",
              "      border-right-color: var(--fill-color);\n",
              "      border-bottom-color: var(--fill-color);\n",
              "    }\n",
              "    90% {\n",
              "      border-color: transparent;\n",
              "      border-bottom-color: var(--fill-color);\n",
              "    }\n",
              "  }\n",
              "</style>\n",
              "\n",
              "  <script>\n",
              "    async function quickchart(key) {\n",
              "      const quickchartButtonEl =\n",
              "        document.querySelector('#' + key + ' button');\n",
              "      quickchartButtonEl.disabled = true;  // To prevent multiple clicks.\n",
              "      quickchartButtonEl.classList.add('colab-df-spinner');\n",
              "      try {\n",
              "        const charts = await google.colab.kernel.invokeFunction(\n",
              "            'suggestCharts', [key], {});\n",
              "      } catch (error) {\n",
              "        console.error('Error during call to suggestCharts:', error);\n",
              "      }\n",
              "      quickchartButtonEl.classList.remove('colab-df-spinner');\n",
              "      quickchartButtonEl.classList.add('colab-df-quickchart-complete');\n",
              "    }\n",
              "    (() => {\n",
              "      let quickchartButtonEl =\n",
              "        document.querySelector('#df-c8d8a562-af81-4d31-959c-342f236b4dd2 button');\n",
              "      quickchartButtonEl.style.display =\n",
              "        google.colab.kernel.accessAllowed ? 'block' : 'none';\n",
              "    })();\n",
              "  </script>\n",
              "</div>\n",
              "\n",
              "    </div>\n",
              "  </div>\n"
            ],
            "application/vnd.google.colaboratory.intrinsic+json": {
              "type": "dataframe",
              "variable_name": "df_all_pages",
              "summary": "{\n  \"name\": \"df_all_pages\",\n  \"rows\": 7,\n  \"fields\": [\n    {\n      \"column\": \"text\",\n      \"properties\": {\n        \"dtype\": \"string\",\n        \"num_unique_values\": 7,\n        \"samples\": [\n          \"Dipartimento Cardiotoracovascolare\\nU.O. Cardiochirurgia\\nDirettore Prof. Francesco Maisano\\nRELAZIONE CLINICA alla DIMISSIONE - Definitiva\\nMilano, il 27/01/2025\\nAlla cortese attenzione del medico curante\\nSi dimette in data 27/01/2025\\nil Sig. RICCA MASSIMO\\nNato il 17/02/1966 telefono 3287351755 Numero Cartella 2025003002\\nricoverato presso questo ospedale dal 20/01/2025\\nDiagnosi alla dimissione\\nIn data 21/01/2025 Sostituzione valvolare aortica con protesi biologica (Inspiris Resilia n.29) e\\nsostituzione di radice aortica con protesi vascolare (Vascutek n.32) con reimpianto degli osti\\ncoronarici secondo Bentall in ministernotomia.\\nMotivo del Ricovero\\nStenosi aortica\\nCenni Anamnestici\\nAllergie: gamberi\\nAnamnesi fisiologica:\\nFamiliarit\\u00e0 positiva per CAD. Nega abitudine tabagica. Alvo e diuresi regolare.\\nAnamnesi patologica prossima e remota:\\nernia inguinale destra, pollipectomia colonoscopica (benigna)\\nAnamnesi cardiologica:\\nin data 01/10/24 viene ricoverato presso l'ospedale di Imperia per intervento chirurgico di ernia inguinale\\ndestra. Durante gli accertamenti \\u00e8 stato fatto un ECG con riscontro elettrocardiografico di BBDx e pertanto\\nconsigliato di eseguire una visita cardiologica.\\nIn data 11/10/24 visita cardiologia al ospedale di Imperia con ecocardiogramma che dimostra: VS Td 59 mm,\\nipertrofia del setto IV 18 mm, Aorta bulbo e ascendente dilatati (42-47 mm), calcificazione delle semilunari con\\nridotta apertura, valvola bicuspide. Gmed 24 mmHg, lieve insufficienza. (si allega referto)\\nTEE 22/10/24: stenosi valvolare di grado severo, insufficienza aortica di grado moderata, calcificazione cuspidi\\ngrado 4 con verosimile bicuspidia aortica, ectasia del bulbo aortico 52 mm, giunzione sino tubulare 42 mm,\\naneurisma dell'aorta ascendente 56 mm, FE 52%. (di allega referto)\\nAll'ingresso paziente in classe NYHA IIb, nega angor, non riferisce palpitazioni, nega dispnea, nega sincopi,\\nnon edemi declivi, RS\\nEsame obiettivo: toni cardiaci validi, ritmici, MV nella norma, no edemi declivi, addome trattabile.\\nEsame obiettivo specialistico\\nCompatibile con il quadro clinico. MUSt basso.\\nDSAN 035/4 convalidato\\nstampato27/01/2025 10:53 Pag 1 / 7\\nReferto firmato digitalmente secondo la norma vigente.(cid:9) Firmatario NASCIMBENE SIMONA IRENE ROSA.\\nData e ora della firma: 27/01/2025 10.53.30.\",\n          \"RELAZIONE CLINICA alla DIMISSIONE - Definitiva\\nAccertamenti pre-operatori\\nRx torace 20/01/2025:Campi polmonari normoespansi, senza addensamenti parenchimali a focolaio in atto\\nbilateralmente. Ili accentuati di aspetto vascolare. uore nei limiti.Ectasia dell'aorta nel tratto ascendente.\\nNon egni di versamento pleurico.\\nEcocardiogramma transtoracico 20/01/2025: Stenoinsufficienza valvolare aortica organica in valvola\\nbicuspide (fused-type RCC-LCC tipo 1 con trei seni di Valsalva sec. Michelena et al.). Elevato burden\\ncalcifico asimmetrico, soprattutto a carico della cuspide conjoint e della commissura anteriore: -insufficienza\\ndi grado severo (VC-2D 6 mm; backflow olodiastolico in aorta discendente prossimale > 0.2 m/s). -stenosi\\ndi grado moderato (V max 4.1 m/s; G medio 40 mmHg; DVI 0,3; AVAi 0,63 cm2/m2) in regime di high-flow\\n(SVi 56 ml/m2). Radice aortica ai seni di Valsalva e alla giunzione sinotubulare dilatata. Aneurisma\\ndell'aorta ascendente al tratto tubulare. Severa ipertrofia concentrica del ventricolo sinistro, severamente\\ndilatato, con funzione sistolica globale lievemente ridotta in presenza di lieve ipocinesia diffusa e\\ndissincronia da ritardo di conduzione. Alterata texture miocardica come da cardiopatia valvolare evoluta.\\nPattern diastolico mal valutabile in presenza di rigurgito aortico eccentrico diretto verso il lembo anteriore\\ndella mitrale. Insufficienza mitralica di grado lieve. Atrio sinistro non dilatato. Ventricolo destro di normali\\ndimensioni e funzione sistolica. Lieve insufficienza tricuspidalica da prolasso del lembo settale. Normale\\npressione polmonare stimata. Diametro SL non dilatato (14 mm/mq). Vena cava inferiore di normali\\ndimensioni con variabilit\\u00e0 respiratoria conservata. Assenza di versamento pericardico. CONCLUSIONI\\nStenoinsufficienza aortica in valvola bicuspide: insufficienza severa, stenosi moderata in regime di high-\\nflow. Severa ipertrofia e severa dilatazione del ventricolo sinistro con lieve riduzione della funzione sistolica\\nin chiave di cardiopatia valvolare evoluta. Aneurisma dell'aorta ascendente tubulare.\\nCoronarografia 21/01/2025: Circolo Coronarico: Dominanza destra Coronaria Sinistra: - Tronco Comune:\\nbreve, esente da lesioni. - Arteria discendente anteriore (IVA): esente da lesioni aterosclerotiche\\nstenosanti. - Arteria circonflessa (CX): esente da lesioni aterosclerotiche stenosanti. Coronaria Destra:\\nCoronaria destra (CDX): esente da lesioni aterosclerotiche stenosanti. Altre Opacizzazioni: Aortografia:\\naneurisma dell'aorta ascendente; insufficienza valvolare aortica di grado severo. Conclusioni: Albero\\ncoronarico esente da lesioni stenosanti. Aneurisma dell'aorta ascendente; insufficienza valvolare aortica di\\ngrado severo.\\nInterventi chirurgici o procedure effettuate\\nIn data 21/01/2025 Sostituzione valvolare aortica con protesi biologica (Inspiris Resilia n.29) e sostituzione di\\nradice aortica con protesi vascolare (Vascutek n.32) con reimpianto degli osti coronarici sec Bentall in\\nministernotomia.\\nDecorso Clinico - Iter Diagnostico Terapeutico\\nIl decorso intra-operatorio \\u00e8 stato caratterizzato da:\\n- necessit\\u00e0 di supporto inotropo ad alto dosaggio con adrenalina per moderata disfunzione biventricolare e\\nnoradrenalina a medio dosaggio per vasoplegia;\\n- necessit\\u00e0 di supporto meccanico del circolo con IABP ( rimosso in data 23/01).\\nIl decorso in terapia intensiva \\u00e8 stato caratterizzato da:\\n- trasfusione di 1 unit\\u00e0 di emazie concentrate;\\n- regolare svezzzamento dal supporto inotropo, meccanico e respiratorio.\\nIl decorso in reparto \\u00e8 stato caratterizzato da regolare svezzzamento dal supporto inotropo e respiratorio.\\nEseguito in data 26/01/25 nuovo tampone per SARS-CoV-2, risultato negativo\\nL'ECG alla dimissione dimostra ritmo sinusale.\\nLe ferite chirurgiche sono in ordine.\\nL'Rx torace pre-dimissione non evidenzia patologia pleuro-parenchimale in atto.\\nL'ecocardiogramma trans-toracico pre-dimissione evidenzia: In esiti di SVAO (protesi biologica Inspiris Resilia\\nn.29) e sostituzione di radice aortica con protesi vascolare (Vascutek n.32), protesi aortica normofunzionante,\\nassenza di patologico rigurgito residuo. Funzione contrattile globale del ventricolo sinistro ai limiti inferiori di\\nnorma, in presenza di dissincronia settale. PAPS: 25 mmHg. Ventricolo destro di normali dimensioni\\nDSAN 035/4 convalidato\\nNumero Cartella 2025003002\\nstampato27/01/2025 10:53 Pag 2 / 7\\nReferto firmato digitalmente secondo la norma vigente.(cid:9) Firmatario NASCIMBENE SIMONA IRENE ROSA.\\nData e ora della firma: 27/01/2025 10.53.30.\",\n          \"RELAZIONE CLINICA alla DIMISSIONE - Definitiva\\nEsame/Prestazione Valore Unit\\u00e0 di misura Intervallo Data\\nEsami strumentali e visite specialistiche\\nCondizione cliniche alla dimissione\\nDiscrete condizioni generali.\\nTerapia al domicilio\\nDSAN 035/4 convalidato\\nNumero Cartella 2025003002\\nstampato27/01/2025 10:53 Pag 6 / 7\\nReferto firmato digitalmente secondo la norma vigente.(cid:9) Firmatario NASCIMBENE SIMONA IRENE ROSA.\\nData e ora della firma: 27/01/2025 10.53.30.\"\n        ],\n        \"semantic_type\": \"\",\n        \"description\": \"\"\n      }\n    }\n  ]\n}"
            }
          },
          "metadata": {},
          "execution_count": 96
        }
      ]
    },
    {
      "cell_type": "markdown",
      "source": [
        "## Inference LLM to create NER dataset"
      ],
      "metadata": {
        "id": "RVciWo1vfl3i"
      }
    },
    {
      "cell_type": "markdown",
      "source": [
        "### Utility functions"
      ],
      "metadata": {
        "id": "iD3OmPc8yJAP"
      }
    },
    {
      "cell_type": "code",
      "source": [
        "def sendLLM(prompt_text,model='gemini-2.0-flash'):\n",
        "    # API endpoint URL (using f-string to insert the key securely)\n",
        "  url = f\"https://generativelanguage.googleapis.com/v1beta/models/{model}:generateContent?key={api_key}\"\n",
        "\n",
        "  # Request headers\n",
        "  headers = {\n",
        "      'Content-Type': 'application/json'\n",
        "  }\n",
        "\n",
        "  # Request body data (using a Python dictionary, then converting to JSON)\n",
        "  data = {\n",
        "    \"contents\": [{\n",
        "      \"parts\":[{\"text\": prompt_text}]\n",
        "      }]\n",
        "  }\n",
        "  # Convert Python dict to JSON string\n",
        "  json_data = json.dumps(data)\n",
        "\n",
        "  # --- Check if API Key exists ---\n",
        "  if not api_key:\n",
        "    print(\"Error: Secret 'GEMINI_API_KEY' not found.\")\n",
        "    print(\"Please add it using the Key icon (🔑) in the left sidebar.\")\n",
        "  else:\n",
        "    # --- Construct the curl command safely ---\n",
        "    # Use shlex.quote to handle potential special characters in data\n",
        "    command = [\n",
        "        \"curl\",\n",
        "        \"-X\", \"POST\",\n",
        "        \"-H\", f\"Content-Type: {headers['Content-Type']}\",\n",
        "        \"-d\", json_data, # Send the JSON string as data\n",
        "        url # The URL with the API key\n",
        "    ]\n",
        "\n",
        "    # --- Execute the command ---\n",
        "    print(\"Sending request to Gemini API...\")\n",
        "    # Using subprocess for more control over execution and output capture\n",
        "    process = subprocess.run(command, capture_output=True, text=True, check=False)\n",
        "\n",
        "    # --- Print the results ---\n",
        "    print(\"\\n--- Status Code ---\")\n",
        "    print(process.returncode) # 0 usually means success\n",
        "\n",
        "    print(\"\\n--- Response (stdout) ---\")\n",
        "    try:\n",
        "        response_json = json.loads(process.stdout)\n",
        "        return response_json\n",
        "        #print(json.dumps(response_json, indent=2))\n",
        "    except json.JSONDecodeError:\n",
        "        print(process.stdout)\n",
        "\n",
        "    #print(\"\\n--- Error Output (stderr) ---\")\n",
        "    #print(process.stderr)\n"
      ],
      "metadata": {
        "id": "iKdaNubayLu1"
      },
      "execution_count": 97,
      "outputs": []
    },
    {
      "cell_type": "code",
      "source": [
        "def create_dataset_IOB(list_cleaned_text_all,prompt_base,model='gemini-2.0-flash'):\n",
        "  response_text=''\n",
        "  i=0\n",
        "  for text in list_cleaned_text_all:\n",
        "    print(f\"Page:{i}\")\n",
        "    prompt_text=prompt_base+text\n",
        "    response_json=sendLLM(prompt_text,model)\n",
        "    print(response_json)\n",
        "    #is the response start directly with[{} remove [8:3]\n",
        "    response_text+=response_json['candidates'][0]['content']['parts'][0]['text'][8:-3]+'<separator>'\n",
        "    i+=1\n",
        "\n",
        "\n",
        "  return response_text\n"
      ],
      "metadata": {
        "id": "UI22xGkFyP4J"
      },
      "execution_count": 98,
      "outputs": []
    },
    {
      "cell_type": "code",
      "source": [
        "def create_dataframe(response_all_tex):\n",
        "  df_dataset_IOB = pd.DataFrame()\n",
        "  for response in response_all_tex.split('<separator>')[:-1]:\n",
        "    # Attempt to parse the response as JSON\n",
        "    try:\n",
        "      dict_response = json.loads(response)\n",
        "    # If JSONDecodeError occurs, print the offending response and skip it\n",
        "    except json.JSONDecodeError as e:\n",
        "      print(f\"Error parsing JSON: {e}\")\n",
        "      print(f\"Offending response: {response}\")\n",
        "      continue  # Skip to the next response\n",
        "\n",
        "    df_dataset_IOB = pd.concat([df_dataset_IOB, pd.DataFrame.from_dict(dict_response)])\n",
        "  return df_dataset_IOB"
      ],
      "metadata": {
        "id": "KdCcy1pnzF49"
      },
      "execution_count": 99,
      "outputs": []
    },
    {
      "cell_type": "markdown",
      "source": [
        "### Gemini models"
      ],
      "metadata": {
        "id": "Rq0psfjhOOgm"
      }
    },
    {
      "cell_type": "code",
      "source": [
        "from google.colab import userdata\n",
        "import json # Import json library for better data handling\n",
        "import shlex # Import shlex for safer command construction\n",
        "import subprocess # Import subprocess for running commands\n",
        "\n",
        "# --- Configuration ---\n",
        "# Retrieve the API key from Colab Secrets\n",
        "api_key = userdata.get('GEMINI_API_KEY')"
      ],
      "metadata": {
        "id": "9O0i745byf0j"
      },
      "execution_count": 100,
      "outputs": []
    },
    {
      "cell_type": "code",
      "source": [
        "prompt_base=\"\"\"Sei un medico e voglio che mi  assegni ad ogni parola una label, seguendo il formato IOB, usato per i task di NER.\n",
        "Le entità sono le seguenti:\n",
        "-PROBLEMA\n",
        "-ESAME\n",
        "-FARMACI\n",
        "-OPERAZIONE\n",
        "\n",
        "\n",
        "Con problema intendiamo anche malattie. Mentre con esame , intendiamo sia esame clinico che strumentale. Considera sia il nome dell'esame sia il valore-risultato dell'esame che puo' essere sia numerico che categorico. Lo stesso vale per i problemi per i farmaci e per le operazioni.\n",
        "\n",
        "Assegna le label frase per frase\n",
        "\n",
        "Dammi come output solo una tabella con 2 colonne in forato JSON:\n",
        "-frase:(stringa che contiene la frase a cui sono state assegnate le label)\n",
        "-label:(stringa di label)\n",
        "\n",
        "Fai attenzione il numero di parole presenti nella prima colonna devono essere uguali al numero di label presenti nella seconda.\n",
        "Non aggiungere ulteriori label al di fuori di:\n",
        "O\n",
        "I_PROBLEMA\n",
        "B_PROBLEMA\n",
        "I_ESAME\n",
        "B_ESAME\n",
        "I_FARMACI\n",
        "B_FARMACI\n",
        "I_OPERAZIONE\n",
        "B_OPERAZION\n",
        "\n",
        "\"\"\"\n",
        "context=\"context: \"+cleaned_text"
      ],
      "metadata": {
        "id": "DJ2V8V2PUpJF"
      },
      "execution_count": 101,
      "outputs": []
    },
    {
      "cell_type": "markdown",
      "source": [
        "#### Gemini 2.0"
      ],
      "metadata": {
        "id": "gOvb7Ucb99Oa"
      }
    },
    {
      "cell_type": "code",
      "source": [
        "response_all_tex_2=create_dataset_IOB(list_cleaned_text_all,prompt_base,model='gemini-2.0-flash')"
      ],
      "metadata": {
        "colab": {
          "base_uri": "https://localhost:8080/"
        },
        "collapsed": true,
        "id": "Azov0btKmXou",
        "outputId": "843cee04-763b-4770-c477-b23a084bb367"
      },
      "execution_count": 102,
      "outputs": [
        {
          "output_type": "stream",
          "name": "stdout",
          "text": [
            "Page:0\n",
            "Sending request to Gemini API...\n",
            "\n",
            "--- Status Code ---\n",
            "0\n",
            "\n",
            "--- Response (stdout) ---\n",
            "{'candidates': [{'content': {'parts': [{'text': '```json\\n[\\n  {\\n    \"frase\": \"Dipartimento Cardiotoracovascolare\",\\n    \"label\": \"O O\"\\n  },\\n  {\\n    \"frase\": \"U.O. Cardiochirurgia\",\\n    \"label\": \"O O\"\\n  },\\n  {\\n    \"frase\": \"Direttore Prof . Francesco Maisano\",\\n    \"label\": \"O O O O\"\\n  },\\n  {\\n    \"frase\": \"RELAZIONE CLINICA alla DIMISSIONE - Definitiva\",\\n    \"label\": \"O O O O O\"\\n  },\\n  {\\n    \"frase\": \"Milano , il 27/01/2025\",\\n    \"label\": \"O O O O\"\\n  },\\n  {\\n    \"frase\": \"Alla cortese attenzione del medico curante\",\\n    \"label\": \"O O O O O O\"\\n  },\\n  {\\n    \"frase\": \"Si dimette in data 27/01/2025\",\\n    \"label\": \"O O O O O\"\\n  },\\n  {\\n    \"frase\": \"il Sig . RICCA MASSIMO\",\\n    \"label\": \"O O O O\"\\n  },\\n  {\\n    \"frase\": \"Nato il 17/02/1966 telefono 3287351755 Numero Cartella 2025003002\",\\n    \"label\": \"O O O O O O O O\"\\n  },\\n  {\\n    \"frase\": \"ricoverato presso questo ospedale dal 20/01/2025\",\\n    \"label\": \"O O O O O O\"\\n  },\\n  {\\n    \"frase\": \"Diagnosi alla dimissione\",\\n    \"label\": \"O O O\"\\n  },\\n  {\\n    \"frase\": \"In data 21/01/2025 Sostituzione valvolare aortica con protesi biologica ( Inspiris Resilia n.29 ) e\",\\n    \"label\": \"O O O B_OPERAZIONE I_OPERAZIONE I_OPERAZIONE O O O O B_FARMACI I_FARMACI O O O\"\\n  },\\n  {\\n    \"frase\": \"sostituzione di radice aortica con protesi vascolare ( Vascutek n.32 ) con reimpianto degli osti\",\\n    \"label\": \"O O B_OPERAZIONE I_OPERAZIONE I_OPERAZIONE O O O B_FARMACI I_FARMACI O O O O\"\\n  },\\n  {\\n    \"frase\": \"coronarici secondo Bentall in ministernotomia .\",\\n    \"label\": \"O O B_OPERAZIONE O B_OPERAZIONE O\"\\n  },\\n  {\\n    \"frase\": \"Motivo del Ricovero\",\\n    \"label\": \"O O O\"\\n  },\\n  {\\n    \"frase\": \"Stenosi aortica\",\\n    \"label\": \"B_PROBLEMA I_PROBLEMA\"\\n  },\\n  {\\n    \"frase\": \"Cenni Anamnestici\",\\n    \"label\": \"O O\"\\n  },\\n  {\\n    \"frase\": \"Allergie : gamberi\",\\n    \"label\": \"B_PROBLEMA O I_PROBLEMA\"\\n  },\\n  {\\n    \"frase\": \"Anamnesi fisiologica :\",\\n    \"label\": \"O O O\"\\n  },\\n  {\\n    \"frase\": \"Familiarità positiva per CAD .\",\\n    \"label\": \"O O O B_PROBLEMA O\"\\n  },\\n  {\\n    \"frase\": \"Nega abitudine tabagica .\",\\n    \"label\": \"O O O O O\"\\n  },\\n  {\\n    \"frase\": \"Alvo e diuresi regolare .\",\\n    \"label\": \"O O O O O\"\\n  },\\n  {\\n    \"frase\": \"Anamnesi patologica prossima e remota :\",\\n    \"label\": \"O O O O O O\"\\n  },\\n  {\\n    \"frase\": \"ernia inguinale destra , pollipectomia colonoscopica ( benigna )\",\\n    \"label\": \"B_PROBLEMA I_PROBLEMA I_PROBLEMA O B_OPERAZIONE I_OPERAZIONE O O O\"\\n  },\\n  {\\n    \"frase\": \"Anamnesi cardiologica :\",\\n    \"label\": \"O O O\"\\n  },\\n  {\\n    \"frase\": \"in data 01/10/24 viene ricoverato presso l\\'ospedale di Imperia per intervento chirurgico di ernia inguinale\",\\n    \"label\": \"O O O O O O O O O O B_OPERAZIONE I_OPERAZIONE I_OPERAZIONE\"\\n  },\\n  {\\n    \"frase\": \"destra .\",\\n    \"label\": \"I_OPERAZIONE O\"\\n  },\\n  {\\n    \"frase\": \"Durante gli accertamenti è stato fatto un ECG con riscontro elettrocardiografico di BBDx e pertanto\",\\n    \"label\": \"O O O O O O B_ESAME O O O B_PROBLEMA O O\"\\n  },\\n  {\\n    \"frase\": \"consigliato di eseguire una visita cardiologica .\",\\n    \"label\": \"O O O O O O O\"\\n  },\\n  {\\n    \"frase\": \"In data 11/10/24 visita cardiologia al ospedale di Imperia con ecocardiogramma che dimostra : VS Td 59 mm ,\",\\n    \"label\": \"O O O B_ESAME I_ESAME O O O O O B_ESAME O O O O\"\\n  },\\n  {\\n    \"frase\": \"ipertrofia del setto IV 18 mm , Aorta bulbo e ascendente dilatati ( 42-47 mm ) , calcificazione delle semilunari con\",\\n    \"label\": \"B_PROBLEMA I_PROBLEMA I_PROBLEMA I_PROBLEMA O O B_PROBLEMA I_PROBLEMA O O O O O O B_PROBLEMA O O O\"\\n  },\\n  {\\n    \"frase\": \"ridotta apertura , valvola bicuspide .\",\\n    \"label\": \"O O O B_PROBLEMA I_PROBLEMA O\"\\n  },\\n  {\\n    \"frase\": \"Gmed 24 mmHg , lieve insufficienza .\",\\n    \"label\": \"B_ESAME I_ESAME O O B_PROBLEMA O\"\\n  },\\n  {\\n    \"frase\": \"( si allega referto )\",\\n    \"label\": \"O O O O O\"\\n  },\\n  {\\n    \"frase\": \"TEE 22/10/24 : stenosi valvolare di grado severo , insufficienza aortica di grado moderata , calcificazione cuspidi\",\\n    \"label\": \"B_ESAME O O B_PROBLEMA I_PROBLEMA O O O B_PROBLEMA I_PROBLEMA O O O B_PROBLEMA O\"\\n  },\\n  {\\n    \"frase\": \"grado 4 con verosimile bicuspidia aortica , ectasia del bulbo aortico 52 mm , giunzione sino tubulare 42 mm ,\",\\n    \"label\": \"O O O B_PROBLEMA I_PROBLEMA O B_PROBLEMA I_PROBLEMA I_PROBLEMA O O O O O O\"\\n  },\\n  {\\n    \"frase\": \"aneurisma dell\\'aorta ascendente 56 mm , FE 52 % .\",\\n    \"label\": \"B_PROBLEMA I_PROBLEMA I_PROBLEMA O O O B_ESAME O O O\"\\n  },\\n  {\\n    \"frase\": \"( di allega referto )\",\\n    \"label\": \"O O O O O\"\\n  },\\n  {\\n    \"frase\": \"All\\'ingresso paziente in classe NYHA IIb , nega angor , non riferisce palpitazioni , nega dispnea , nega sincopi ,\",\\n    \"label\": \"O O O O O O O O B_PROBLEMA O O O B_PROBLEMA O O B_PROBLEMA O O B_PROBLEMA O\"\\n  },\\n  {\\n    \"frase\": \"non edemi declivi , RS\",\\n    \"label\": \"O B_PROBLEMA I_PROBLEMA O O\"\\n  },\\n  {\\n    \"frase\": \"Esame obiettivo : toni cardiaci validi , ritmici , MV nella norma , no edemi declivi , addome trattabile .\",\\n    \"label\": \"B_ESAME I_ESAME O O O O O O O O O O B_PROBLEMA I_PROBLEMA O O O O\"\\n  },\\n   {\\n    \"frase\": \"Esame obiettivo specialistico\",\\n    \"label\": \"B_ESAME I_ESAME O\"\\n  },\\n  {\\n    \"frase\": \"Compatibile con il quadro clinico .\",\\n    \"label\": \"O O O O O\"\\n  },\\n  {\\n    \"frase\": \"MUSt basso .\",\\n    \"label\": \"O O O O\"\\n  },\\n  {\\n    \"frase\": \"DSAN 035/4 convalidato\",\\n    \"label\": \"O O O O\"\\n  },\\n  {\\n    \"frase\": \"stampato27/01/2025 10:53 Pag 1 / 7\",\\n    \"label\": \"O O O O O O O\"\\n  },\\n  {\\n    \"frase\": \"Referto firmato digitalmente secondo la norma vigente.(cid:9) Firmatario NASCIMBENE SIMONA IRENE ROSA .\",\\n    \"label\": \"O O O O O O O O O O O O\"\\n  },\\n   {\\n    \"frase\": \"Data e ora della firma : 27/01/2025 10.53.30 .\",\\n    \"label\": \"O O O O O O O O\"\\n  }\\n]\\n```'}], 'role': 'model'}, 'finishReason': 'STOP', 'avgLogprobs': -0.016659043319211662}], 'usageMetadata': {'promptTokenCount': 1046, 'candidatesTokenCount': 2271, 'totalTokenCount': 3317, 'promptTokensDetails': [{'modality': 'TEXT', 'tokenCount': 1046}], 'candidatesTokensDetails': [{'modality': 'TEXT', 'tokenCount': 2271}]}, 'modelVersion': 'gemini-2.0-flash'}\n",
            "Page:1\n",
            "Sending request to Gemini API...\n",
            "\n",
            "--- Status Code ---\n",
            "0\n",
            "\n",
            "--- Response (stdout) ---\n",
            "{'candidates': [{'content': {'parts': [{'text': '```json\\n[\\n    {\\n        \"frase\": \"RELAZIONE CLINICA alla DIMISSIONE - Definitiva\",\\n        \"label\": \"O O O O O O\"\\n    },\\n    {\\n        \"frase\": \"Accertamenti pre-operatori\",\\n        \"label\": \"O O\"\\n    },\\n    {\\n        \"frase\": \"Rx torace 20/01/2025:Campi polmonari normoespansi, senza addensamenti parenchimali a focolaio in atto\",\\n        \"label\": \"B_ESAME I_ESAME I_ESAME O O O O O O O O\"\\n    },\\n    {\\n        \"frase\": \"bilateralmente\",\\n        \"label\": \"O\"\\n    },\\n    {\\n        \"frase\": \"Ili accentuati di aspetto vascolare\",\\n        \"label\": \"B_PROBLEMA I_PROBLEMA O O O\"\\n    },\\n    {\\n        \"frase\": \". uore nei limiti\",\\n        \"label\": \"O O O O\"\\n    },\\n    {\\n        \"frase\": \"Ectasia dell\\'aorta nel tratto ascendente\",\\n        \"label\": \"B_PROBLEMA I_PROBLEMA I_PROBLEMA I_PROBLEMA O O\"\\n    },\\n    {\\n        \"frase\": \"Non egni di versamento pleurico\",\\n        \"label\": \"O O O B_PROBLEMA I_PROBLEMA\"\\n    },\\n    {\\n        \"frase\": \"Ecocardiogramma transtoracico 20/01/2025: Stenoinsufficienza valvolare aortica organica in valvola\",\\n        \"label\": \"B_ESAME I_ESAME I_ESAME O B_PROBLEMA I_PROBLEMA I_PROBLEMA I_PROBLEMA O O\"\\n    },\\n    {\\n        \"frase\": \"bicuspide (fused-type RCC-LCC tipo 1 con trei seni di Valsalva sec. Michelena et al.).\",\\n        \"label\": \"O O O O O O O O O O O O O\"\\n    },\\n    {\\n        \"frase\": \"Elevato burden calcifico asimmetrico, soprattutto a carico della cuspide conjoint e della commissura anteriore: -insufficienza\",\\n        \"label\": \"B_PROBLEMA I_PROBLEMA I_PROBLEMA O O O O O O O O O B_PROBLEMA\"\\n    },\\n    {\\n        \"frase\": \"di grado severo (VC-2D 6 mm; backflow olodiastolico in aorta discendente prossimale > 0.2 m/s).\",\\n        \"label\": \"O O O O O O O O O O O O O\"\\n    },\\n    {\\n        \"frase\": \"-stenosi\",\\n        \"label\": \"B_PROBLEMA\"\\n    },\\n    {\\n        \"frase\": \"di grado moderato (V max 4.1 m/s; G medio 40 mmHg; DVI 0,3; AVAi 0,63 cm2/m2) in regime di high-flow\",\\n        \"label\": \"O O O O O O O O O O O O O O O O\"\\n    },\\n    {\\n        \"frase\": \"(SVi 56 ml/m2).\",\\n        \"label\": \"O O O\"\\n    },\\n    {\\n        \"frase\": \"Radice aortica ai seni di Valsalva e alla giunzione sinotubulare dilatata\",\\n        \"label\": \"B_PROBLEMA I_PROBLEMA O O O O O O O\"\\n    },\\n    {\\n        \"frase\": \"Aneurisma\",\\n        \"label\": \"B_PROBLEMA\"\\n    },\\n    {\\n        \"frase\": \"dell\\'aorta ascendente al tratto tubulare\",\\n        \"label\": \"I_PROBLEMA I_PROBLEMA O O O\"\\n    },\\n    {\\n        \"frase\": \"Severa ipertrofia concentrica del ventricolo sinistro, severamente\",\\n        \"label\": \"B_PROBLEMA I_PROBLEMA O O I_PROBLEMA I_PROBLEMA O\"\\n    },\\n    {\\n        \"frase\": \"dilatato, con funzione sistolica globale lievemente ridotta in presenza di lieve ipocinesia diffusa e\",\\n        \"label\": \"O O O O O O O O O O O O\"\\n    },\\n    {\\n        \"frase\": \"dissincronia da ritardo di conduzione\",\\n        \"label\": \"B_PROBLEMA O O O\"\\n    },\\n    {\\n        \"frase\": \"Alterata texture miocardica come da cardiopatia valvolare evoluta\",\\n        \"label\": \"O O O O O B_PROBLEMA I_PROBLEMA O\"\\n    },\\n    {\\n        \"frase\": \"Pattern diastolico mal valutabile in presenza di rigurgito aortico eccentrico diretto verso il lembo anteriore\",\\n        \"label\": \"O O O O O O B_PROBLEMA I_PROBLEMA O O O O O\"\\n    },\\n    {\\n        \"frase\": \"della mitrale\",\\n        \"label\": \"I_PROBLEMA\"\\n    },\\n    {\\n        \"frase\": \"Insufficienza mitralica di grado lieve\",\\n        \"label\": \"B_PROBLEMA I_PROBLEMA O O O\"\\n    },\\n    {\\n        \"frase\": \"Atrio sinistro non dilatato\",\\n        \"label\": \"O O O O\"\\n    },\\n    {\\n        \"frase\": \"Ventricolo destro di normali dimensioni e funzione sistolica\",\\n        \"label\": \"O O O O O O O\"\\n    },\\n    {\\n        \"frase\": \"Lieve insufficienza tricuspidalica da prolasso del lembo settale\",\\n        \"label\": \"B_PROBLEMA I_PROBLEMA I_PROBLEMA O B_PROBLEMA O O\"\\n    },\\n    {\\n        \"frase\": \"Normale\",\\n        \"label\": \"O\"\\n    },\\n    {\\n        \"frase\": \"pressione polmonare stimata\",\\n        \"label\": \"O O O\"\\n    },\\n    {\\n        \"frase\": \"Diametro SL non dilatato (14 mm/mq).\",\\n        \"label\": \"O O O O O O\"\\n    },\\n    {\\n        \"frase\": \"Vena cava inferiore di normali\",\\n        \"label\": \"O O O O\"\\n    },\\n    {\\n        \"frase\": \"dimensioni con variabilità respiratoria conservata\",\\n        \"label\": \"O O O O O\"\\n    },\\n    {\\n        \"frase\": \"Assenza di versamento pericardico\",\\n        \"label\": \"O O B_PROBLEMA I_PROBLEMA\"\\n    },\\n    {\\n        \"frase\": \"CONCLUSIONI\",\\n        \"label\": \"O\"\\n    },\\n    {\\n        \"frase\": \"Stenoinsufficienza aortica in valvola bicuspide: insufficienza severa, stenosi moderata in regime di high-\",\\n        \"label\": \"B_PROBLEMA I_PROBLEMA I_PROBLEMA O O B_PROBLEMA O B_PROBLEMA O O O O\"\\n    },\\n    {\\n        \"frase\": \"flow\",\\n        \"label\": \"O\"\\n    },\\n    {\\n        \"frase\": \"Severa ipertrofia e severa dilatazione del ventricolo sinistro con lieve riduzione della funzione sistolica\",\\n        \"label\": \"B_PROBLEMA I_PROBLEMA O O O O O I_PROBLEMA I_PROBLEMA O O O O\"\\n    },\\n    {\\n        \"frase\": \"in chiave di cardiopatia valvolare evoluta\",\\n        \"label\": \"O O O B_PROBLEMA I_PROBLEMA O\"\\n    },\\n    {\\n        \"frase\": \"Aneurisma dell\\'aorta ascendente tubulare\",\\n        \"label\": \"B_PROBLEMA I_PROBLEMA I_PROBLEMA O\"\\n    },\\n    {\\n        \"frase\": \"Coronarografia 21/01/2025: Circolo Coronarico: Dominanza destra Coronaria Sinistra: - Tronco Comune:\",\\n        \"label\": \"B_ESAME I_ESAME O O O O O O O\"\\n    },\\n    {\\n        \"frase\": \"breve, esente da lesioni\",\\n        \"label\": \"O O O O\"\\n    },\\n    {\\n        \"frase\": \"- Arteria discendente anteriore (IVA): esente da lesioni aterosclerotiche\",\\n        \"label\": \"O O O O O O O O\"\\n    },\\n    {\\n        \"frase\": \"stenosanti\",\\n        \"label\": \"O\"\\n    },\\n    {\\n        \"frase\": \"- Arteria circonflessa (CX): esente da lesioni aterosclerotiche stenosanti\",\\n        \"label\": \"O O O O O O O O\"\\n    },\\n    {\\n        \"frase\": \"Coronaria Destra\",\\n        \"label\": \"O O\"\\n    },\\n    {\\n        \"frase\": \"Coronaria destra (CDX): esente da lesioni aterosclerotiche stenosanti\",\\n        \"label\": \"O O O O O O O\"\\n    },\\n    {\\n        \"frase\": \"Altre Opacizzazioni: Aortografia\",\\n        \"label\": \"O O B_ESAME\"\\n    },\\n    {\\n        \"frase\": \"aneurisma dell\\'aorta ascendente; insufficienza valvolare aortica di grado severo\",\\n        \"label\": \"B_PROBLEMA I_PROBLEMA I_PROBLEMA O B_PROBLEMA I_PROBLEMA I_PROBLEMA O O O\"\\n    },\\n    {\\n        \"frase\": \"Conclusioni: Albero coronarico esente da lesioni stenosanti\",\\n        \"label\": \"O O O O O O\"\\n    },\\n    {\\n        \"frase\": \"Aneurisma dell\\'aorta ascendente; insufficienza valvolare aortica di\",\\n        \"label\": \"B_PROBLEMA I_PROBLEMA I_PROBLEMA O B_PROBLEMA I_PROBLEMA I_PROBLEMA O\"\\n    },\\n    {\\n        \"frase\": \"grado severo\",\\n        \"label\": \"O O\"\\n    },\\n    {\\n        \"frase\": \"Interventi chirurgici o procedure effettuate\",\\n        \"label\": \"O O O O O\"\\n    },\\n    {\\n        \"frase\": \"In data 21/01/2025 Sostituzione valvolare aortica con protesi biologica (Inspiris Resilia n.29) e sostituzione di\",\\n        \"label\": \"O O O B_OPERAZIONE I_OPERAZIONE I_OPERAZIONE O O O O O O O\"\\n    },\\n    {\\n        \"frase\": \"radice aortica con protesi vascolare (Vascutek n.32) con reimpianto degli osti coronarici sec Bentall in\",\\n        \"label\": \"I_OPERAZIONE I_OPERAZIONE O O O O O O O O O O\"\\n    },\\n    {\\n        \"frase\": \"ministernotomia\",\\n        \"label\": \"O\"\\n    },\\n    {\\n        \"frase\": \"Decorso Clinico - Iter Diagnostico Terapeutico\",\\n        \"label\": \"O O O O O\"\\n    },\\n    {\\n        \"frase\": \"Il decorso intra-operatorio è stato caratterizzato da\",\\n        \"label\": \"O O O O O O\"\\n    },\\n    {\\n        \"frase\": \"necessità di supporto inotropo ad alto dosaggio con adrenalina per moderata disfunzione biventricolare e\",\\n        \"label\": \"O O O B_FARMACI O O B_FARMACI O B_PROBLEMA I_PROBLEMA O\"\\n    },\\n    {\\n        \"frase\": \"noradrenalina a medio dosaggio per vasoplegia\",\\n        \"label\": \"B_FARMACI O O O O B_PROBLEMA\"\\n    },\\n    {\\n        \"frase\": \"necessità di supporto meccanico del circolo con IABP ( rimosso in data 23/01).\",\\n        \"label\": \"O O O O O O O O O O O\"\\n    },\\n    {\\n        \"frase\": \"Il decorso in terapia intensiva è stato caratterizzato da\",\\n        \"label\": \"O O O O O O\"\\n    },\\n    {\\n        \"frase\": \"trasfusione di 1 unità di emazie concentrate\",\\n        \"label\": \"B_OPERAZIONE O O O O O\"\\n    },\\n    {\\n        \"frase\": \"regolare svezzzamento dal supporto inotropo, meccanico e respiratorio\",\\n        \"label\": \"O O O O O O O\"\\n    },\\n    {\\n        \"frase\": \"Il decorso in reparto è stato caratterizzato da regolare svezzzamento dal supporto inotropo e respiratorio\",\\n        \"label\": \"O O O O O O O O O O\"\\n    },\\n    {\\n        \"frase\": \"Eseguito in data 26/01/25 nuovo tampone per SARS-CoV-2, risultato negativo\",\\n        \"label\": \"O O O O O O B_ESAME I_ESAME O O\"\\n    },\\n    {\\n        \"frase\": \"L\\'ECG alla dimissione dimostra ritmo sinusale\",\\n        \"label\": \"B_ESAME O O O O O\"\\n    },\\n    {\\n        \"frase\": \"Le ferite chirurgiche sono in ordine\",\\n        \"label\": \"O O O O O\"\\n    },\\n    {\\n        \"frase\": \"L\\'Rx torace pre-dimissione non evidenzia patologia pleuro-parenchimale in atto\",\\n        \"label\": \"B_ESAME I_ESAME O O O B_PROBLEMA I_PROBLEMA O O\"\\n    },\\n    {\\n        \"frase\": \"L\\'ecocardiogramma trans-toracico pre-dimissione evidenzia: In esiti di SVAO (protesi biologica Inspiris Resilia\",\\n        \"label\": \"B_ESAME I_ESAME I_ESAME O O O O O O O O\"\\n    },\\n    {\\n        \"frase\": \"n.29) e sostituzione di radice aortica con protesi vascolare (Vascutek n.32), protesi aortica normofunzionante\",\\n        \"label\": \"O O B_OPERAZIONE I_OPERAZIONE I_OPERAZIONE O O O O O O\"\\n    },\\n    {\\n        \"frase\": \"assenza di patologico rigurgito residuo\",\\n        \"label\": \"O O B_PROBLEMA I_PROBLEMA O\"\\n    },\\n    {\\n        \"frase\": \"Funzione contrattile globale del ventricolo sinistro ai limiti inferiori di\",\\n        \"label\": \"O O O O O I_PROBLEMA I_PROBLEMA O O\"\\n    },\\n    {\\n        \"frase\": \"norma, in presenza di dissincronia settale\",\\n        \"label\": \"O O O B_PROBLEMA O\"\\n    },\\n    {\\n        \"frase\": \"PAPS: 25 mmHg\",\\n        \"label\": \"B_ESAME I_ESAME\"\\n    },\\n    {\\n        \"frase\": \"Ventricolo destro di normali dimensioni\",\\n        \"label\": \"O O O O O\"\\n    },\\n    {\\n        \"frase\": \"DSAN 035/4 convalidato\",\\n        \"label\": \"O O O\"\\n    },\\n    {\\n        \"frase\": \"Numero Cartella 2025003002\",\\n        \"label\": \"O O O\"\\n    },\\n    {\\n        \"frase\": \"stampato27/01/2025 10:53 Pag 2 / 7\",\\n        \"label\": \"O O O O O O O\"\\n    },\\n    {\\n        \"frase\": \"Referto firmato digitalmente secondo la norma vigente.(cid:9) Firmatario NASCIMBENE SIMONA IRENE ROSA.\",\\n        \"label\": \"O O O O O O O O O O O O\"\\n    },\\n    {\\n        \"frase\": \"Data e ora della firma: 27/01/2025 10.53.30.\",\\n        \"label\": \"O O O O O O O O\"\\n    }\\n]\\n```'}], 'role': 'model'}, 'finishReason': 'STOP', 'avgLogprobs': -0.02419506368939637}], 'usageMetadata': {'promptTokenCount': 1636, 'candidatesTokenCount': 3751, 'totalTokenCount': 5387, 'promptTokensDetails': [{'modality': 'TEXT', 'tokenCount': 1636}], 'candidatesTokensDetails': [{'modality': 'TEXT', 'tokenCount': 3751}]}, 'modelVersion': 'gemini-2.0-flash'}\n",
            "Page:2\n",
            "Sending request to Gemini API...\n",
            "\n",
            "--- Status Code ---\n",
            "0\n",
            "\n",
            "--- Response (stdout) ---\n",
            "{'candidates': [{'content': {'parts': [{'text': '```json\\n[\\n  {\\n    \"frase\": \"RELAZIONE CLINICA alla DIMISSIONE - Definitiva\",\\n    \"label\": \"O O O O O\"\\n  },\\n  {\\n    \"frase\": \"endocavitarie , funzione contrattile globale lievemente ridotta .\",\\n    \"label\": \"O O B_PROBLEMA I_PROBLEMA I_PROBLEMA I_PROBLEMA O\"\\n  },\\n  {\\n    \"frase\": \"Vena cava inferiore di normali dimensioni con variabilità respiratoria conservata .\",\\n    \"label\": \"B_PROBLEMA I_PROBLEMA I_PROBLEMA O O O B_PROBLEMA I_PROBLEMA O\"\\n  },\\n  {\\n    \"frase\": \"Scollamento pericardico .\",\\n    \"label\": \"B_PROBLEMA I_PROBLEMA O\"\\n  },\\n  {\\n    \"frase\": \"CONCLUSIONI Buon esito SVAO e di sostituzione della radice aortica\",\\n    \"label\": \"O O O O O O B_OPERAZIONE I_OPERAZIONE I_OPERAZIONE\"\\n  },\\n  {\\n    \"frase\": \"Gli esami di laboratorio di routine ( emocromo , funzionalità renale ed epatica , elettroliti ) alla dimissione sono risultati consoni con lo stato post-operatorio .\",\\n    \"label\": \"O B_ESAME I_ESAME O O B_ESAME O B_PROBLEMA I_PROBLEMA I_PROBLEMA O B_PROBLEMA O O O O O O O O O\"\\n  },\\n  {\\n    \"frase\": \"Oltre a quanto sopra riportato , non sono stati eseguiti altri trattamenti farmacologici o di altro genere .\",\\n    \"label\": \"O O O O O O O O B_FARMACI I_FARMACI O O O O O\"\\n  },\\n  {\\n    \"frase\": \"Accertamenti Diagnostici\",\\n    \"label\": \"O O\"\\n  },\\n  {\\n    \"frase\": \"Esami di laboratorio ( si segnalano gli esiti significativi )\",\\n    \"label\": \"B_ESAME I_ESAME O O O O O O\"\\n  },\\n  {\\n    \"frase\": \"Esame/Prestazione Valore Unità di misura Intervallo Data\",\\n    \"label\": \"O O O O O O O\"\\n  },\\n  {\\n    \"frase\": \"EMOCROMO - MCHC ( Conc.Emoglobinica 341 g/L 310 - 360 20/01/2025\",\\n    \"label\": \"B_ESAME O B_ESAME I_ESAME O O O O O O O\"\\n  },\\n  {\\n    \"frase\": \"Corpusc.Media )\",\\n    \"label\": \"B_ESAME O\"\\n  },\\n  {\\n    \"frase\": \"DSAN 035/4 convalidato\",\\n    \"label\": \"O O O O\"\\n  },\\n  {\\n    \"frase\": \"Numero Cartella 2025003002\",\\n    \"label\": \"O O O\"\\n  },\\n  {\\n    \"frase\": \"stampato27/01/2025 10:53 Pag 3 / 7\",\\n    \"label\": \"O O O O O O O\"\\n  },\\n  {\\n    \"frase\": \"Referto firmato digitalmente secondo la norma vigente.(cid:9) Firmatario NASCIMBENE SIMONA IRENE ROSA .\",\\n    \"label\": \"O O O O O O O O O O O O O O\"\\n  },\\n  {\\n    \"frase\": \"Data e ora della firma : 27/01/2025 10.53.30 .\",\\n    \"label\": \"O O O O O O O O O\"\\n  }\\n]\\n```'}], 'role': 'model'}, 'finishReason': 'STOP', 'avgLogprobs': -0.02215682015683616}], 'usageMetadata': {'promptTokenCount': 586, 'candidatesTokenCount': 883, 'totalTokenCount': 1469, 'promptTokensDetails': [{'modality': 'TEXT', 'tokenCount': 586}], 'candidatesTokensDetails': [{'modality': 'TEXT', 'tokenCount': 883}]}, 'modelVersion': 'gemini-2.0-flash'}\n",
            "Page:3\n",
            "Sending request to Gemini API...\n",
            "\n",
            "--- Status Code ---\n",
            "0\n",
            "\n",
            "--- Response (stdout) ---\n",
            "{'candidates': [{'content': {'parts': [{'text': '```json\\n[\\n  {\\n    \"frase\": \"RELAZIONE CLINICA alla DIMISSIONE - Definitiva\",\\n    \"label\": \"O O O O O O\"\\n  },\\n  {\\n    \"frase\": \"Esame/Prestazione Valore Unità di misura Intervallo Data\",\\n    \"label\": \"B_ESAME O O O O O\"\\n  },\\n  {\\n    \"frase\": \"URINE - U-Colore Giallo 20/01/2025\",\\n    \"label\": \"B_ESAME O I_ESAME I_ESAME I_ESAME O\"\\n  },\\n  {\\n    \"frase\": \"Paglierino\",\\n    \"label\": \"I_ESAME\"\\n  },\\n  {\\n    \"frase\": \"DSAN 035/4 convalidato\",\\n    \"label\": \"O O O O\"\\n  },\\n  {\\n    \"frase\": \"Numero Cartella 2025003002\",\\n    \"label\": \"O O O\"\\n  },\\n  {\\n    \"frase\": \"stampato27/01/2025 10:53 Pag 4 / 7\",\\n    \"label\": \"O O O O O O O\"\\n  },\\n  {\\n    \"frase\": \"Referto firmato digitalmente secondo la norma vigente.(cid:9) Firmatario NASCIMBENE SIMONA IRENE ROSA.\",\\n    \"label\": \"O O O O O O O O O O O O O\"\\n  },\\n  {\\n    \"frase\": \"Data e ora della firma: 27/01/2025 10.53.30.\",\\n    \"label\": \"O O O O O O O\"\\n  }\\n]\\n```'}], 'role': 'model'}, 'finishReason': 'STOP', 'avgLogprobs': -0.008358259270661068}], 'usageMetadata': {'promptTokenCount': 419, 'candidatesTokenCount': 411, 'totalTokenCount': 830, 'promptTokensDetails': [{'modality': 'TEXT', 'tokenCount': 419}], 'candidatesTokensDetails': [{'modality': 'TEXT', 'tokenCount': 411}]}, 'modelVersion': 'gemini-2.0-flash'}\n",
            "Page:4\n",
            "Sending request to Gemini API...\n",
            "\n",
            "--- Status Code ---\n",
            "0\n",
            "\n",
            "--- Response (stdout) ---\n",
            "{'candidates': [{'content': {'parts': [{'text': '```json\\n[\\n  {\\n    \"frase\": \"RELAZIONE CLINICA alla DIMISSIONE - Definitiva\",\\n    \"label\": \"O O O O O O\"\\n  },\\n  {\\n    \"frase\": \"Esame/Prestazione Valore Unità di misura Intervallo Data\",\\n    \"label\": \"B_ESAME O O O O O\"\\n  },\\n  {\\n    \"frase\": \"Valutazione morfologica del tracciato Non alterazioni 20/01/2025\",\\n    \"label\": \"B_ESAME I_ESAME O I_ESAME O I_ESAME O\"\\n  },\\n  {\\n    \"frase\": \"monoclonali\",\\n    \"label\": \"O\"\\n  },\\n  {\\n    \"frase\": \"EMOCROMO - MCHC (Conc.Emoglobinica 336 g/L 310 - 360 27/01/2025\",\\n    \"label\": \"B_ESAME O B_ESAME I_ESAME I_ESAME I_ESAME I_ESAME I_ESAME I_ESAME I_ESAME I_ESAME O\"\\n  },\\n  {\\n    \"frase\": \"Corpusc.Media)\",\\n    \"label\": \"I_ESAME\"\\n  },\\n  {\\n    \"frase\": \"DSAN 035/4 convalidato\",\\n    \"label\": \"O O O O\"\\n  },\\n  {\\n    \"frase\": \"Numero Cartella 2025003002\",\\n    \"label\": \"O O O\"\\n  },\\n  {\\n    \"frase\": \"stampato27/01/2025 10:53 Pag 5 / 7\",\\n    \"label\": \"O O O O O O O\"\\n  },\\n  {\\n    \"frase\": \"Referto firmato digitalmente secondo la norma vigente.(cid:9) Firmatario NASCIMBENE SIMONA IRENE ROSA.\",\\n    \"label\": \"O O O O O O O O O O O O\"\\n  },\\n  {\\n    \"frase\": \"Data e ora della firma: 27/01/2025 10.53.30.\",\\n    \"label\": \"O O O O O O O\"\\n  }\\n]\\n```'}], 'role': 'model'}, 'finishReason': 'STOP', 'avgLogprobs': -0.02198661649359108}], 'usageMetadata': {'promptTokenCount': 470, 'candidatesTokenCount': 542, 'totalTokenCount': 1012, 'promptTokensDetails': [{'modality': 'TEXT', 'tokenCount': 470}], 'candidatesTokensDetails': [{'modality': 'TEXT', 'tokenCount': 542}]}, 'modelVersion': 'gemini-2.0-flash'}\n",
            "Page:5\n",
            "Sending request to Gemini API...\n",
            "\n",
            "--- Status Code ---\n",
            "0\n",
            "\n",
            "--- Response (stdout) ---\n",
            "{'candidates': [{'content': {'parts': [{'text': '```json\\n[\\n  {\\n    \"frase\": \"RELAZIONE CLINICA alla DIMISSIONE - Definitiva\",\\n    \"label\": \"O O O O O O\"\\n  },\\n  {\\n    \"frase\": \"Esame/Prestazione Valore Unità di misura Intervallo Data\",\\n    \"label\": \"B_ESAME I_ESAME O O O O O\"\\n  },\\n  {\\n    \"frase\": \"Esami strumentali e visite specialistiche\",\\n    \"label\": \"B_ESAME I_ESAME O B_ESAME I_ESAME\"\\n  },\\n  {\\n    \"frase\": \"Condizione cliniche alla dimissione\",\\n    \"label\": \"B_PROBLEMA I_PROBLEMA O O O\"\\n  },\\n  {\\n    \"frase\": \"Discrete condizioni generali.\",\\n    \"label\": \"O B_PROBLEMA I_PROBLEMA O\"\\n  },\\n  {\\n    \"frase\": \"Terapia al domicilio\",\\n    \"label\": \"B_FARMACI O O\"\\n  },\\n  {\\n    \"frase\": \"DSAN 035/4 convalidato\",\\n    \"label\": \"O O O O O\"\\n  },\\n  {\\n    \"frase\": \"Numero Cartella 2025003002\",\\n    \"label\": \"O O O\"\\n  },\\n  {\\n    \"frase\": \"stampato27/01/2025 10:53 Pag 6 / 7\",\\n    \"label\": \"O O O O O O O O\"\\n  },\\n  {\\n    \"frase\": \"Referto firmato digitalmente secondo la norma vigente.(cid:9) Firmatario NASCIMBENE SIMONA IRENE ROSA.\",\\n    \"label\": \"O O O O O O O O O O O O O\"\\n  },\\n  {\\n    \"frase\": \"Data e ora della firma: 27/01/2025 10.53.30.\",\\n    \"label\": \"O O O O O O O O O\"\\n  }\\n]\\n```'}], 'role': 'model'}, 'finishReason': 'STOP', 'avgLogprobs': -0.016130023972127448}], 'usageMetadata': {'promptTokenCount': 423, 'candidatesTokenCount': 482, 'totalTokenCount': 905, 'promptTokensDetails': [{'modality': 'TEXT', 'tokenCount': 423}], 'candidatesTokensDetails': [{'modality': 'TEXT', 'tokenCount': 482}]}, 'modelVersion': 'gemini-2.0-flash'}\n",
            "Page:6\n",
            "Sending request to Gemini API...\n",
            "\n",
            "--- Status Code ---\n",
            "0\n",
            "\n",
            "--- Response (stdout) ---\n",
            "{'candidates': [{'content': {'parts': [{'text': '```json\\n[\\n  {\\n    \"frase\": \"RELAZIONE CLINICA alla DIMISSIONE - Definitiva\",\\n    \"label\": \"O O O O O\"\\n  },\\n  {\\n    \"frase\": \"I farmaci suggeriti possono essere validamente sostituiti, a discrezione e su prescrizione del medico curante, con farmaci generici a medesimo principio attivo, ove disponibili.\",\\n    \"label\": \"O B_FARMACI O O O O O O O O O O O O B_FARMACI O O O O\"\\n  },\\n  {\\n    \"frase\": \"Consigli al domicilio\",\\n    \"label\": \"O O O\"\\n  },\\n  {\\n    \"frase\": \"Ringraziando per la fiducia, restiamo a disposizione per ogni eventuale chiarimento.\",\\n    \"label\": \"O O O O O O O O\"\\n  },\\n  {\\n    \"frase\": \"Per ulteriori informazioni potrà contattarci chiamando i seguenti numeri: Segreteria 02.2643.7102 - 02.2643.7109 , FAX 02.2643.7125; Reparto 02.2643.7532 - 02.2643.7115.\",\\n    \"label\": \"O O O O O O O O O O O O O O O O O O O O O O O O\"\\n  },\\n  {\\n    \"frase\": \"Si dichiara che in caso di necessità il paziente, trascorsi tre mesi dalla data dell\\'intervento, è idoneo ad eseguire l\\'esame di Risonanza Magnetica Nucleare (fino a 3 Tesla), in quanto i materiali usati non controindicano l\\'esame.\",\\n    \"label\": \"O O O O O O O O O O O O O B_OPERAZIONE I_OPERAZIONE O O O O B_ESAME I_ESAME I_ESAME I_ESAME I_ESAME O O O O O O O O O\"\\n  },\\n  {\\n    \"frase\": \"Controlli successivi (salvo diversa indicazione del medico curante)\",\\n    \"label\": \"O O O O O O O\"\\n  },\\n  {\\n    \"frase\": \"Si consiglia controllo ambulatoriale tra circa un mese e mezzo (Centro Unico Prenotazioni: 02.2643.2436; FAX 02.2643.2567; prenotare la visita di controllo presso l\\'ufficio prenotazioni, Galleria delle Botteghe piano -1; oppure via email: ricoveri.ssn@hsr.it).\",\\n    \"label\": \"O O O O O O O O O O O O O O O O O O O O O O O O O O O O O O O O\"\\n  },\\n  {\\n    \"frase\": \"Attivazione Servizio Sociale Interno : No\",\\n    \"label\": \"O O O O O O\"\\n  },\\n  {\\n    \"frase\": \"Attivazione forme di supporto territoriali\",\\n    \"label\": \"O O O O O\"\\n  },\\n  {\\n    \"frase\": \"Tipologia supporto territoriale: nessuna\",\\n    \"label\": \"O O O O\"\\n  },\\n  {\\n    \"frase\": \"La relazione clinica è Definitiva\",\\n    \"label\": \"O O O O O\"\\n  },\\n  {\\n    \"frase\": \"Ringraziando per la fiducia, restiamo a disposizione per ogni eventuale chiarimento.\",\\n    \"label\": \"O O O O O O O O\"\\n  },\\n  {\\n    \"frase\": \"Per ulteriori informazioni potrà contattarci chiamando i seguenti numeri di telefono, secondo le modalità indicate:\",\\n    \"label\": \"O O O O O O O O O O O\"\\n  },\\n  {\\n    \"frase\": \"Segreteria: 02-2643 7102/7109\",\\n    \"label\": \"O O O\"\\n  },\\n  {\\n    \"frase\": \"Distinti saluti,\",\\n    \"label\": \"O O\"\\n  },\\n  {\\n    \"frase\": \"Equipe medica\",\\n    \"label\": \"O O\"\\n  },\\n  {\\n    \"frase\": \"Prof. F. Maisano\",\\n    \"label\": \"O O O O\"\\n  },\\n  {\\n    \"frase\": \"Firma del paziente (o di chi ne fa le veci) per\",\\n    \"label\": \"O O O B_PROBLEMA O O O O O\"\\n  },\\n  {\\n    \"frase\": \"Prof. M. De Bonis\",\\n    \"label\": \"O O O O\"\\n  },\\n  {\\n    \"frase\": \"ricevuta\",\\n    \"label\": \"O\"\\n  },\\n  {\\n    \"frase\": \"Prof. A. Castiglioni\",\\n    \"label\": \"O O O O\"\\n  },\\n  {\\n    \"frase\": \"Prof. O. Alfieri\",\\n    \"label\": \"O O O O\"\\n  },\\n  {\\n    \"frase\": \"Dr.ssa S. Nascimbene\",\\n    \"label\": \"O O O O\"\\n  },\\n  {\\n    \"frase\": \"Dr.ssa M. Calabrese Timbro e firma del medico dimettente\",\\n    \"label\": \"O O O O O O O O\"\\n  },\\n  {\\n    \"frase\": \"(la firma digitale in calce, se presente, sostituisce la firma autografa)\",\\n    \"label\": \"O O O O O O O O O O\"\\n  },\\n  {\\n    \"frase\": \"DSAN 035/4 convalidato\",\\n    \"label\": \"O O O O\"\\n  },\\n  {\\n    \"frase\": \"Numero Cartella 2025003002\",\\n    \"label\": \"O O O\"\\n  },\\n  {\\n    \"frase\": \"stampato27/01/2025 10:53 Pag 7 / 7\",\\n    \"label\": \"O O O O O O O\"\\n  },\\n  {\\n    \"frase\": \"Referto firmato digitalmente secondo la norma vigente.(cid:9) Firmatario NASCIMBENE SIMONA IRENE ROSA.\",\\n    \"label\": \"O O O O O O O O O O O O\"\\n  },\\n  {\\n    \"frase\": \"Data e ora della firma: 27/01/2025 10.53.30.\",\\n    \"label\": \"O O O O O O O O\"\\n  }\\n]\\n```'}], 'role': 'model'}, 'finishReason': 'STOP', 'avgLogprobs': -0.018020520134577677}], 'usageMetadata': {'promptTokenCount': 904, 'candidatesTokenCount': 1512, 'totalTokenCount': 2416, 'promptTokensDetails': [{'modality': 'TEXT', 'tokenCount': 904}], 'candidatesTokensDetails': [{'modality': 'TEXT', 'tokenCount': 1512}]}, 'modelVersion': 'gemini-2.0-flash'}\n"
          ]
        }
      ]
    },
    {
      "cell_type": "code",
      "source": [
        "df_dataset_IOB_2=create_dataframe(response_all_tex_2)"
      ],
      "metadata": {
        "id": "0fJ_Dv7HmEwe"
      },
      "execution_count": 103,
      "outputs": []
    },
    {
      "cell_type": "code",
      "source": [
        "df_dataset_IOB_2.head(15)"
      ],
      "metadata": {
        "colab": {
          "base_uri": "https://localhost:8080/",
          "height": 520
        },
        "id": "wbGgo05sxUEv",
        "outputId": "631a1127-59f0-4540-a0c5-6b9b3544c1aa"
      },
      "execution_count": 104,
      "outputs": [
        {
          "output_type": "execute_result",
          "data": {
            "text/plain": [
              "                                                frase  \\\n",
              "0                  Dipartimento Cardiotoracovascolare   \n",
              "1                                U.O. Cardiochirurgia   \n",
              "2                  Direttore Prof . Francesco Maisano   \n",
              "3      RELAZIONE CLINICA alla DIMISSIONE - Definitiva   \n",
              "4                              Milano , il 27/01/2025   \n",
              "5          Alla cortese attenzione del medico curante   \n",
              "6                       Si dimette in data 27/01/2025   \n",
              "7                              il Sig . RICCA MASSIMO   \n",
              "8   Nato il 17/02/1966 telefono 3287351755 Numero ...   \n",
              "9    ricoverato presso questo ospedale dal 20/01/2025   \n",
              "10                           Diagnosi alla dimissione   \n",
              "11  In data 21/01/2025 Sostituzione valvolare aort...   \n",
              "12  sostituzione di radice aortica con protesi vas...   \n",
              "13    coronarici secondo Bentall in ministernotomia .   \n",
              "14                                Motivo del Ricovero   \n",
              "\n",
              "                                                label  \n",
              "0                                                 O O  \n",
              "1                                                 O O  \n",
              "2                                             O O O O  \n",
              "3                                           O O O O O  \n",
              "4                                             O O O O  \n",
              "5                                         O O O O O O  \n",
              "6                                           O O O O O  \n",
              "7                                             O O O O  \n",
              "8                                     O O O O O O O O  \n",
              "9                                         O O O O O O  \n",
              "10                                              O O O  \n",
              "11  O O O B_OPERAZIONE I_OPERAZIONE I_OPERAZIONE O...  \n",
              "12  O O B_OPERAZIONE I_OPERAZIONE I_OPERAZIONE O O...  \n",
              "13                  O O B_OPERAZIONE O B_OPERAZIONE O  \n",
              "14                                              O O O  "
            ],
            "text/html": [
              "\n",
              "  <div id=\"df-8f5607cf-d956-4489-a764-48b5c2f648e3\" class=\"colab-df-container\">\n",
              "    <div>\n",
              "<style scoped>\n",
              "    .dataframe tbody tr th:only-of-type {\n",
              "        vertical-align: middle;\n",
              "    }\n",
              "\n",
              "    .dataframe tbody tr th {\n",
              "        vertical-align: top;\n",
              "    }\n",
              "\n",
              "    .dataframe thead th {\n",
              "        text-align: right;\n",
              "    }\n",
              "</style>\n",
              "<table border=\"1\" class=\"dataframe\">\n",
              "  <thead>\n",
              "    <tr style=\"text-align: right;\">\n",
              "      <th></th>\n",
              "      <th>frase</th>\n",
              "      <th>label</th>\n",
              "    </tr>\n",
              "  </thead>\n",
              "  <tbody>\n",
              "    <tr>\n",
              "      <th>0</th>\n",
              "      <td>Dipartimento Cardiotoracovascolare</td>\n",
              "      <td>O O</td>\n",
              "    </tr>\n",
              "    <tr>\n",
              "      <th>1</th>\n",
              "      <td>U.O. Cardiochirurgia</td>\n",
              "      <td>O O</td>\n",
              "    </tr>\n",
              "    <tr>\n",
              "      <th>2</th>\n",
              "      <td>Direttore Prof . Francesco Maisano</td>\n",
              "      <td>O O O O</td>\n",
              "    </tr>\n",
              "    <tr>\n",
              "      <th>3</th>\n",
              "      <td>RELAZIONE CLINICA alla DIMISSIONE - Definitiva</td>\n",
              "      <td>O O O O O</td>\n",
              "    </tr>\n",
              "    <tr>\n",
              "      <th>4</th>\n",
              "      <td>Milano , il 27/01/2025</td>\n",
              "      <td>O O O O</td>\n",
              "    </tr>\n",
              "    <tr>\n",
              "      <th>5</th>\n",
              "      <td>Alla cortese attenzione del medico curante</td>\n",
              "      <td>O O O O O O</td>\n",
              "    </tr>\n",
              "    <tr>\n",
              "      <th>6</th>\n",
              "      <td>Si dimette in data 27/01/2025</td>\n",
              "      <td>O O O O O</td>\n",
              "    </tr>\n",
              "    <tr>\n",
              "      <th>7</th>\n",
              "      <td>il Sig . RICCA MASSIMO</td>\n",
              "      <td>O O O O</td>\n",
              "    </tr>\n",
              "    <tr>\n",
              "      <th>8</th>\n",
              "      <td>Nato il 17/02/1966 telefono 3287351755 Numero ...</td>\n",
              "      <td>O O O O O O O O</td>\n",
              "    </tr>\n",
              "    <tr>\n",
              "      <th>9</th>\n",
              "      <td>ricoverato presso questo ospedale dal 20/01/2025</td>\n",
              "      <td>O O O O O O</td>\n",
              "    </tr>\n",
              "    <tr>\n",
              "      <th>10</th>\n",
              "      <td>Diagnosi alla dimissione</td>\n",
              "      <td>O O O</td>\n",
              "    </tr>\n",
              "    <tr>\n",
              "      <th>11</th>\n",
              "      <td>In data 21/01/2025 Sostituzione valvolare aort...</td>\n",
              "      <td>O O O B_OPERAZIONE I_OPERAZIONE I_OPERAZIONE O...</td>\n",
              "    </tr>\n",
              "    <tr>\n",
              "      <th>12</th>\n",
              "      <td>sostituzione di radice aortica con protesi vas...</td>\n",
              "      <td>O O B_OPERAZIONE I_OPERAZIONE I_OPERAZIONE O O...</td>\n",
              "    </tr>\n",
              "    <tr>\n",
              "      <th>13</th>\n",
              "      <td>coronarici secondo Bentall in ministernotomia .</td>\n",
              "      <td>O O B_OPERAZIONE O B_OPERAZIONE O</td>\n",
              "    </tr>\n",
              "    <tr>\n",
              "      <th>14</th>\n",
              "      <td>Motivo del Ricovero</td>\n",
              "      <td>O O O</td>\n",
              "    </tr>\n",
              "  </tbody>\n",
              "</table>\n",
              "</div>\n",
              "    <div class=\"colab-df-buttons\">\n",
              "\n",
              "  <div class=\"colab-df-container\">\n",
              "    <button class=\"colab-df-convert\" onclick=\"convertToInteractive('df-8f5607cf-d956-4489-a764-48b5c2f648e3')\"\n",
              "            title=\"Convert this dataframe to an interactive table.\"\n",
              "            style=\"display:none;\">\n",
              "\n",
              "  <svg xmlns=\"http://www.w3.org/2000/svg\" height=\"24px\" viewBox=\"0 -960 960 960\">\n",
              "    <path d=\"M120-120v-720h720v720H120Zm60-500h600v-160H180v160Zm220 220h160v-160H400v160Zm0 220h160v-160H400v160ZM180-400h160v-160H180v160Zm440 0h160v-160H620v160ZM180-180h160v-160H180v160Zm440 0h160v-160H620v160Z\"/>\n",
              "  </svg>\n",
              "    </button>\n",
              "\n",
              "  <style>\n",
              "    .colab-df-container {\n",
              "      display:flex;\n",
              "      gap: 12px;\n",
              "    }\n",
              "\n",
              "    .colab-df-convert {\n",
              "      background-color: #E8F0FE;\n",
              "      border: none;\n",
              "      border-radius: 50%;\n",
              "      cursor: pointer;\n",
              "      display: none;\n",
              "      fill: #1967D2;\n",
              "      height: 32px;\n",
              "      padding: 0 0 0 0;\n",
              "      width: 32px;\n",
              "    }\n",
              "\n",
              "    .colab-df-convert:hover {\n",
              "      background-color: #E2EBFA;\n",
              "      box-shadow: 0px 1px 2px rgba(60, 64, 67, 0.3), 0px 1px 3px 1px rgba(60, 64, 67, 0.15);\n",
              "      fill: #174EA6;\n",
              "    }\n",
              "\n",
              "    .colab-df-buttons div {\n",
              "      margin-bottom: 4px;\n",
              "    }\n",
              "\n",
              "    [theme=dark] .colab-df-convert {\n",
              "      background-color: #3B4455;\n",
              "      fill: #D2E3FC;\n",
              "    }\n",
              "\n",
              "    [theme=dark] .colab-df-convert:hover {\n",
              "      background-color: #434B5C;\n",
              "      box-shadow: 0px 1px 3px 1px rgba(0, 0, 0, 0.15);\n",
              "      filter: drop-shadow(0px 1px 2px rgba(0, 0, 0, 0.3));\n",
              "      fill: #FFFFFF;\n",
              "    }\n",
              "  </style>\n",
              "\n",
              "    <script>\n",
              "      const buttonEl =\n",
              "        document.querySelector('#df-8f5607cf-d956-4489-a764-48b5c2f648e3 button.colab-df-convert');\n",
              "      buttonEl.style.display =\n",
              "        google.colab.kernel.accessAllowed ? 'block' : 'none';\n",
              "\n",
              "      async function convertToInteractive(key) {\n",
              "        const element = document.querySelector('#df-8f5607cf-d956-4489-a764-48b5c2f648e3');\n",
              "        const dataTable =\n",
              "          await google.colab.kernel.invokeFunction('convertToInteractive',\n",
              "                                                    [key], {});\n",
              "        if (!dataTable) return;\n",
              "\n",
              "        const docLinkHtml = 'Like what you see? Visit the ' +\n",
              "          '<a target=\"_blank\" href=https://colab.research.google.com/notebooks/data_table.ipynb>data table notebook</a>'\n",
              "          + ' to learn more about interactive tables.';\n",
              "        element.innerHTML = '';\n",
              "        dataTable['output_type'] = 'display_data';\n",
              "        await google.colab.output.renderOutput(dataTable, element);\n",
              "        const docLink = document.createElement('div');\n",
              "        docLink.innerHTML = docLinkHtml;\n",
              "        element.appendChild(docLink);\n",
              "      }\n",
              "    </script>\n",
              "  </div>\n",
              "\n",
              "\n",
              "<div id=\"df-404c10fd-e0d0-461b-86e7-8ed39dd7bf20\">\n",
              "  <button class=\"colab-df-quickchart\" onclick=\"quickchart('df-404c10fd-e0d0-461b-86e7-8ed39dd7bf20')\"\n",
              "            title=\"Suggest charts\"\n",
              "            style=\"display:none;\">\n",
              "\n",
              "<svg xmlns=\"http://www.w3.org/2000/svg\" height=\"24px\"viewBox=\"0 0 24 24\"\n",
              "     width=\"24px\">\n",
              "    <g>\n",
              "        <path d=\"M19 3H5c-1.1 0-2 .9-2 2v14c0 1.1.9 2 2 2h14c1.1 0 2-.9 2-2V5c0-1.1-.9-2-2-2zM9 17H7v-7h2v7zm4 0h-2V7h2v10zm4 0h-2v-4h2v4z\"/>\n",
              "    </g>\n",
              "</svg>\n",
              "  </button>\n",
              "\n",
              "<style>\n",
              "  .colab-df-quickchart {\n",
              "      --bg-color: #E8F0FE;\n",
              "      --fill-color: #1967D2;\n",
              "      --hover-bg-color: #E2EBFA;\n",
              "      --hover-fill-color: #174EA6;\n",
              "      --disabled-fill-color: #AAA;\n",
              "      --disabled-bg-color: #DDD;\n",
              "  }\n",
              "\n",
              "  [theme=dark] .colab-df-quickchart {\n",
              "      --bg-color: #3B4455;\n",
              "      --fill-color: #D2E3FC;\n",
              "      --hover-bg-color: #434B5C;\n",
              "      --hover-fill-color: #FFFFFF;\n",
              "      --disabled-bg-color: #3B4455;\n",
              "      --disabled-fill-color: #666;\n",
              "  }\n",
              "\n",
              "  .colab-df-quickchart {\n",
              "    background-color: var(--bg-color);\n",
              "    border: none;\n",
              "    border-radius: 50%;\n",
              "    cursor: pointer;\n",
              "    display: none;\n",
              "    fill: var(--fill-color);\n",
              "    height: 32px;\n",
              "    padding: 0;\n",
              "    width: 32px;\n",
              "  }\n",
              "\n",
              "  .colab-df-quickchart:hover {\n",
              "    background-color: var(--hover-bg-color);\n",
              "    box-shadow: 0 1px 2px rgba(60, 64, 67, 0.3), 0 1px 3px 1px rgba(60, 64, 67, 0.15);\n",
              "    fill: var(--button-hover-fill-color);\n",
              "  }\n",
              "\n",
              "  .colab-df-quickchart-complete:disabled,\n",
              "  .colab-df-quickchart-complete:disabled:hover {\n",
              "    background-color: var(--disabled-bg-color);\n",
              "    fill: var(--disabled-fill-color);\n",
              "    box-shadow: none;\n",
              "  }\n",
              "\n",
              "  .colab-df-spinner {\n",
              "    border: 2px solid var(--fill-color);\n",
              "    border-color: transparent;\n",
              "    border-bottom-color: var(--fill-color);\n",
              "    animation:\n",
              "      spin 1s steps(1) infinite;\n",
              "  }\n",
              "\n",
              "  @keyframes spin {\n",
              "    0% {\n",
              "      border-color: transparent;\n",
              "      border-bottom-color: var(--fill-color);\n",
              "      border-left-color: var(--fill-color);\n",
              "    }\n",
              "    20% {\n",
              "      border-color: transparent;\n",
              "      border-left-color: var(--fill-color);\n",
              "      border-top-color: var(--fill-color);\n",
              "    }\n",
              "    30% {\n",
              "      border-color: transparent;\n",
              "      border-left-color: var(--fill-color);\n",
              "      border-top-color: var(--fill-color);\n",
              "      border-right-color: var(--fill-color);\n",
              "    }\n",
              "    40% {\n",
              "      border-color: transparent;\n",
              "      border-right-color: var(--fill-color);\n",
              "      border-top-color: var(--fill-color);\n",
              "    }\n",
              "    60% {\n",
              "      border-color: transparent;\n",
              "      border-right-color: var(--fill-color);\n",
              "    }\n",
              "    80% {\n",
              "      border-color: transparent;\n",
              "      border-right-color: var(--fill-color);\n",
              "      border-bottom-color: var(--fill-color);\n",
              "    }\n",
              "    90% {\n",
              "      border-color: transparent;\n",
              "      border-bottom-color: var(--fill-color);\n",
              "    }\n",
              "  }\n",
              "</style>\n",
              "\n",
              "  <script>\n",
              "    async function quickchart(key) {\n",
              "      const quickchartButtonEl =\n",
              "        document.querySelector('#' + key + ' button');\n",
              "      quickchartButtonEl.disabled = true;  // To prevent multiple clicks.\n",
              "      quickchartButtonEl.classList.add('colab-df-spinner');\n",
              "      try {\n",
              "        const charts = await google.colab.kernel.invokeFunction(\n",
              "            'suggestCharts', [key], {});\n",
              "      } catch (error) {\n",
              "        console.error('Error during call to suggestCharts:', error);\n",
              "      }\n",
              "      quickchartButtonEl.classList.remove('colab-df-spinner');\n",
              "      quickchartButtonEl.classList.add('colab-df-quickchart-complete');\n",
              "    }\n",
              "    (() => {\n",
              "      let quickchartButtonEl =\n",
              "        document.querySelector('#df-404c10fd-e0d0-461b-86e7-8ed39dd7bf20 button');\n",
              "      quickchartButtonEl.style.display =\n",
              "        google.colab.kernel.accessAllowed ? 'block' : 'none';\n",
              "    })();\n",
              "  </script>\n",
              "</div>\n",
              "\n",
              "    </div>\n",
              "  </div>\n"
            ],
            "application/vnd.google.colaboratory.intrinsic+json": {
              "type": "dataframe",
              "variable_name": "df_dataset_IOB_2",
              "summary": "{\n  \"name\": \"df_dataset_IOB_2\",\n  \"rows\": 208,\n  \"fields\": [\n    {\n      \"column\": \"frase\",\n      \"properties\": {\n        \"dtype\": \"string\",\n        \"num_unique_values\": 177,\n        \"samples\": [\n          \"Familiarit\\u00e0 positiva per CAD .\",\n          \"stampato27/01/2025 10:53 Pag 1 / 7\",\n          \"URINE - U-Colore Giallo 20/01/2025\"\n        ],\n        \"semantic_type\": \"\",\n        \"description\": \"\"\n      }\n    },\n    {\n      \"column\": \"label\",\n      \"properties\": {\n        \"dtype\": \"category\",\n        \"num_unique_values\": 93,\n        \"samples\": [\n          \"I_PROBLEMA I_PROBLEMA O O O\",\n          \"O O O B_PROBLEMA I_PROBLEMA O B_PROBLEMA I_PROBLEMA I_PROBLEMA O O O O O O\",\n          \"O O O B_OPERAZIONE I_OPERAZIONE I_OPERAZIONE O O O O O O O\"\n        ],\n        \"semantic_type\": \"\",\n        \"description\": \"\"\n      }\n    }\n  ]\n}"
            }
          },
          "metadata": {},
          "execution_count": 104
        }
      ]
    },
    {
      "cell_type": "markdown",
      "source": [
        "## Exploration of the datasets and comparisons"
      ],
      "metadata": {
        "id": "a57QV-z-__be"
      }
    },
    {
      "cell_type": "markdown",
      "source": [
        "### Utility functions"
      ],
      "metadata": {
        "id": "WUNTuRTpMY-C"
      }
    },
    {
      "cell_type": "code",
      "source": [
        "def visualize_iob_sentence(row):\n",
        "    \"\"\"\n",
        "    Visualizza una frase con le etichette IOB usando spaCy, con colori diversi per ogni label.\n",
        "    :param row: Una riga di un DataFrame Pandas contenente 'frase' e 'label'.\n",
        "    \"\"\"\n",
        "    nlp = spacy.blank(\"it\")  # Carichiamo un modello vuoto per l'italiano\n",
        "    words = row['frase'].split()\n",
        "    labels = row['label'].split()\n",
        "\n",
        "    doc = Doc(nlp.vocab, words=words)\n",
        "\n",
        "    ents = []\n",
        "    current_entity = []\n",
        "    current_label = None\n",
        "\n",
        "    for i, (word, label) in enumerate(zip(words, labels)):\n",
        "        if label.startswith(\"B_\"):\n",
        "            if current_entity:\n",
        "                ents.append(Span(doc, current_entity[0], current_entity[-1] + 1, label=current_label))\n",
        "            current_entity = [i]\n",
        "            current_label = label[2:]\n",
        "        elif label.startswith(\"I_\") and current_entity:\n",
        "            current_entity.append(i)\n",
        "\n",
        "    if current_entity:\n",
        "        ents.append(Span(doc, current_entity[0], current_entity[-1] + 1, label=current_label))\n",
        "\n",
        "    doc.ents = ents\n",
        "\n",
        "    colors = {label: f\"hsl({hash(label) % 360}, 70%, 70%)\" for label in set(l[2:] for l in labels)}\n",
        "    options = {\"ents\": list(colors.keys()), \"colors\": colors}\n",
        "\n",
        "    return displacy.render(doc, style=\"ent\", jupyter=True, options=options)\n",
        "\n",
        "\n"
      ],
      "metadata": {
        "id": "L4r0mvBvLeUu"
      },
      "execution_count": 105,
      "outputs": []
    },
    {
      "cell_type": "code",
      "source": [
        "def preprocess_iob_dataframe(df):\n",
        "    new_data = []\n",
        "\n",
        "    for index, row in df.iterrows():\n",
        "        sentence = row['frase']\n",
        "        labels = row['label']\n",
        "\n",
        "        words = sentence.split()\n",
        "        label_list = labels.split()\n",
        "\n",
        "        if len(words) != len(label_list):\n",
        "            print(f\"Mismatch in row {index}, sentence '{sentence}'. Skipping this row.\")\n",
        "            continue\n",
        "\n",
        "        for i in range(len(words)):\n",
        "            new_data.append([index, words[i], label_list[i], sentence])\n",
        "\n",
        "    return pd.DataFrame(new_data, columns=[\"#Sentence\", \"Word\", \"Label\", \"Sentence\"])\n"
      ],
      "metadata": {
        "id": "KO_rCUbeM17B"
      },
      "execution_count": 106,
      "outputs": []
    },
    {
      "cell_type": "markdown",
      "source": [
        "### Dataset exploration"
      ],
      "metadata": {
        "id": "k0D-6tzdNBx6"
      }
    },
    {
      "cell_type": "code",
      "source": [
        "df_dataset_IOB_2.iloc[22]"
      ],
      "metadata": {
        "colab": {
          "base_uri": "https://localhost:8080/",
          "height": 147
        },
        "id": "xk4YzKSuMOU5",
        "outputId": "7e2066d6-38a9-4ddc-fd00-542c91baf835"
      },
      "execution_count": 107,
      "outputs": [
        {
          "output_type": "execute_result",
          "data": {
            "text/plain": [
              "frase    Anamnesi patologica prossima e remota :\n",
              "label                                O O O O O O\n",
              "Name: 22, dtype: object"
            ],
            "text/html": [
              "<div>\n",
              "<style scoped>\n",
              "    .dataframe tbody tr th:only-of-type {\n",
              "        vertical-align: middle;\n",
              "    }\n",
              "\n",
              "    .dataframe tbody tr th {\n",
              "        vertical-align: top;\n",
              "    }\n",
              "\n",
              "    .dataframe thead th {\n",
              "        text-align: right;\n",
              "    }\n",
              "</style>\n",
              "<table border=\"1\" class=\"dataframe\">\n",
              "  <thead>\n",
              "    <tr style=\"text-align: right;\">\n",
              "      <th></th>\n",
              "      <th>22</th>\n",
              "    </tr>\n",
              "  </thead>\n",
              "  <tbody>\n",
              "    <tr>\n",
              "      <th>frase</th>\n",
              "      <td>Anamnesi patologica prossima e remota :</td>\n",
              "    </tr>\n",
              "    <tr>\n",
              "      <th>label</th>\n",
              "      <td>O O O O O O</td>\n",
              "    </tr>\n",
              "  </tbody>\n",
              "</table>\n",
              "</div><br><label><b>dtype:</b> object</label>"
            ]
          },
          "metadata": {},
          "execution_count": 107
        }
      ]
    },
    {
      "cell_type": "code",
      "source": [
        "visualize_iob_sentence(df_dataset_IOB_2.iloc[23])"
      ],
      "metadata": {
        "colab": {
          "base_uri": "https://localhost:8080/",
          "height": 52
        },
        "id": "BEbVZpMELlHW",
        "outputId": "2214cf34-0d3e-46f0-c097-a62388930898"
      },
      "execution_count": 108,
      "outputs": [
        {
          "output_type": "display_data",
          "data": {
            "text/plain": [
              "<IPython.core.display.HTML object>"
            ],
            "text/html": [
              "<span class=\"tex2jax_ignore\"><div class=\"entities\" style=\"line-height: 2.5; direction: ltr\">\n",
              "<mark class=\"entity\" style=\"background: hsl(223, 70%, 70%); padding: 0.45em 0.6em; margin: 0 0.25em; line-height: 1; border-radius: 0.35em;\">\n",
              "    ernia inguinale destra\n",
              "    <span style=\"font-size: 0.8em; font-weight: bold; line-height: 1; border-radius: 0.35em; vertical-align: middle; margin-left: 0.5rem\">PROBLEMA</span>\n",
              "</mark>\n",
              " , \n",
              "<mark class=\"entity\" style=\"background: hsl(99, 70%, 70%); padding: 0.45em 0.6em; margin: 0 0.25em; line-height: 1; border-radius: 0.35em;\">\n",
              "    pollipectomia colonoscopica\n",
              "    <span style=\"font-size: 0.8em; font-weight: bold; line-height: 1; border-radius: 0.35em; vertical-align: middle; margin-left: 0.5rem\">OPERAZIONE</span>\n",
              "</mark>\n",
              " ( benigna ) </div></span>"
            ]
          },
          "metadata": {}
        }
      ]
    },
    {
      "cell_type": "code",
      "source": [
        "# Create the new DataFrame\n",
        "new_df = preprocess_iob_dataframe(df_dataset_IOB_2)\n",
        "\n",
        "# Print the first few rows of the new DataFrame\n",
        "new_df.head()"
      ],
      "metadata": {
        "colab": {
          "base_uri": "https://localhost:8080/",
          "height": 1000
        },
        "collapsed": true,
        "id": "w56wOpPgAsko",
        "outputId": "30e50cd0-25cd-4013-9701-575270515282"
      },
      "execution_count": 109,
      "outputs": [
        {
          "output_type": "stream",
          "name": "stdout",
          "text": [
            "Mismatch in row 2, sentence 'Direttore Prof . Francesco Maisano'. Skipping this row.\n",
            "Mismatch in row 3, sentence 'RELAZIONE CLINICA alla DIMISSIONE - Definitiva'. Skipping this row.\n",
            "Mismatch in row 7, sentence 'il Sig . RICCA MASSIMO'. Skipping this row.\n",
            "Mismatch in row 12, sentence 'sostituzione di radice aortica con protesi vascolare ( Vascutek n.32 ) con reimpianto degli osti'. Skipping this row.\n",
            "Mismatch in row 20, sentence 'Nega abitudine tabagica .'. Skipping this row.\n",
            "Mismatch in row 25, sentence 'in data 01/10/24 viene ricoverato presso l'ospedale di Imperia per intervento chirurgico di ernia inguinale'. Skipping this row.\n",
            "Mismatch in row 27, sentence 'Durante gli accertamenti è stato fatto un ECG con riscontro elettrocardiografico di BBDx e pertanto'. Skipping this row.\n",
            "Mismatch in row 29, sentence 'In data 11/10/24 visita cardiologia al ospedale di Imperia con ecocardiogramma che dimostra : VS Td 59 mm ,'. Skipping this row.\n",
            "Mismatch in row 30, sentence 'ipertrofia del setto IV 18 mm , Aorta bulbo e ascendente dilatati ( 42-47 mm ) , calcificazione delle semilunari con'. Skipping this row.\n",
            "Mismatch in row 32, sentence 'Gmed 24 mmHg , lieve insufficienza .'. Skipping this row.\n",
            "Mismatch in row 34, sentence 'TEE 22/10/24 : stenosi valvolare di grado severo , insufficienza aortica di grado moderata , calcificazione cuspidi'. Skipping this row.\n",
            "Mismatch in row 35, sentence 'grado 4 con verosimile bicuspidia aortica , ectasia del bulbo aortico 52 mm , giunzione sino tubulare 42 mm ,'. Skipping this row.\n",
            "Mismatch in row 40, sentence 'Esame obiettivo : toni cardiaci validi , ritmici , MV nella norma , no edemi declivi , addome trattabile .'. Skipping this row.\n",
            "Mismatch in row 42, sentence 'Compatibile con il quadro clinico .'. Skipping this row.\n",
            "Mismatch in row 43, sentence 'MUSt basso .'. Skipping this row.\n",
            "Mismatch in row 44, sentence 'DSAN 035/4 convalidato'. Skipping this row.\n",
            "Mismatch in row 45, sentence 'stampato27/01/2025 10:53 Pag 1 / 7'. Skipping this row.\n",
            "Mismatch in row 46, sentence 'Referto firmato digitalmente secondo la norma vigente.(cid:9) Firmatario NASCIMBENE SIMONA IRENE ROSA .'. Skipping this row.\n",
            "Mismatch in row 47, sentence 'Data e ora della firma : 27/01/2025 10.53.30 .'. Skipping this row.\n",
            "Mismatch in row 2, sentence 'Rx torace 20/01/2025:Campi polmonari normoespansi, senza addensamenti parenchimali a focolaio in atto'. Skipping this row.\n",
            "Mismatch in row 6, sentence 'Ectasia dell'aorta nel tratto ascendente'. Skipping this row.\n",
            "Mismatch in row 8, sentence 'Ecocardiogramma transtoracico 20/01/2025: Stenoinsufficienza valvolare aortica organica in valvola'. Skipping this row.\n",
            "Mismatch in row 9, sentence 'bicuspide (fused-type RCC-LCC tipo 1 con trei seni di Valsalva sec. Michelena et al.).'. Skipping this row.\n",
            "Mismatch in row 10, sentence 'Elevato burden calcifico asimmetrico, soprattutto a carico della cuspide conjoint e della commissura anteriore: -insufficienza'. Skipping this row.\n",
            "Mismatch in row 11, sentence 'di grado severo (VC-2D 6 mm; backflow olodiastolico in aorta discendente prossimale > 0.2 m/s).'. Skipping this row.\n",
            "Mismatch in row 13, sentence 'di grado moderato (V max 4.1 m/s; G medio 40 mmHg; DVI 0,3; AVAi 0,63 cm2/m2) in regime di high-flow'. Skipping this row.\n",
            "Mismatch in row 15, sentence 'Radice aortica ai seni di Valsalva e alla giunzione sinotubulare dilatata'. Skipping this row.\n",
            "Mismatch in row 19, sentence 'dilatato, con funzione sistolica globale lievemente ridotta in presenza di lieve ipocinesia diffusa e'. Skipping this row.\n",
            "Mismatch in row 20, sentence 'dissincronia da ritardo di conduzione'. Skipping this row.\n",
            "Mismatch in row 22, sentence 'Pattern diastolico mal valutabile in presenza di rigurgito aortico eccentrico diretto verso il lembo anteriore'. Skipping this row.\n",
            "Mismatch in row 23, sentence 'della mitrale'. Skipping this row.\n",
            "Mismatch in row 26, sentence 'Ventricolo destro di normali dimensioni e funzione sistolica'. Skipping this row.\n",
            "Mismatch in row 27, sentence 'Lieve insufficienza tricuspidalica da prolasso del lembo settale'. Skipping this row.\n",
            "Mismatch in row 31, sentence 'Vena cava inferiore di normali'. Skipping this row.\n",
            "Mismatch in row 35, sentence 'Stenoinsufficienza aortica in valvola bicuspide: insufficienza severa, stenosi moderata in regime di high-'. Skipping this row.\n",
            "Mismatch in row 37, sentence 'Severa ipertrofia e severa dilatazione del ventricolo sinistro con lieve riduzione della funzione sistolica'. Skipping this row.\n",
            "Mismatch in row 40, sentence 'Coronarografia 21/01/2025: Circolo Coronarico: Dominanza destra Coronaria Sinistra: - Tronco Comune:'. Skipping this row.\n",
            "Mismatch in row 42, sentence '- Arteria discendente anteriore (IVA): esente da lesioni aterosclerotiche'. Skipping this row.\n",
            "Mismatch in row 44, sentence '- Arteria circonflessa (CX): esente da lesioni aterosclerotiche stenosanti'. Skipping this row.\n",
            "Mismatch in row 46, sentence 'Coronaria destra (CDX): esente da lesioni aterosclerotiche stenosanti'. Skipping this row.\n",
            "Mismatch in row 48, sentence 'aneurisma dell'aorta ascendente; insufficienza valvolare aortica di grado severo'. Skipping this row.\n",
            "Mismatch in row 49, sentence 'Conclusioni: Albero coronarico esente da lesioni stenosanti'. Skipping this row.\n",
            "Mismatch in row 50, sentence 'Aneurisma dell'aorta ascendente; insufficienza valvolare aortica di'. Skipping this row.\n",
            "Mismatch in row 53, sentence 'In data 21/01/2025 Sostituzione valvolare aortica con protesi biologica (Inspiris Resilia n.29) e sostituzione di'. Skipping this row.\n",
            "Mismatch in row 54, sentence 'radice aortica con protesi vascolare (Vascutek n.32) con reimpianto degli osti coronarici sec Bentall in'. Skipping this row.\n",
            "Mismatch in row 56, sentence 'Decorso Clinico - Iter Diagnostico Terapeutico'. Skipping this row.\n",
            "Mismatch in row 57, sentence 'Il decorso intra-operatorio è stato caratterizzato da'. Skipping this row.\n",
            "Mismatch in row 58, sentence 'necessità di supporto inotropo ad alto dosaggio con adrenalina per moderata disfunzione biventricolare e'. Skipping this row.\n",
            "Mismatch in row 60, sentence 'necessità di supporto meccanico del circolo con IABP ( rimosso in data 23/01).'. Skipping this row.\n",
            "Mismatch in row 61, sentence 'Il decorso in terapia intensiva è stato caratterizzato da'. Skipping this row.\n",
            "Mismatch in row 62, sentence 'trasfusione di 1 unità di emazie concentrate'. Skipping this row.\n",
            "Mismatch in row 63, sentence 'regolare svezzzamento dal supporto inotropo, meccanico e respiratorio'. Skipping this row.\n",
            "Mismatch in row 64, sentence 'Il decorso in reparto è stato caratterizzato da regolare svezzzamento dal supporto inotropo e respiratorio'. Skipping this row.\n",
            "Mismatch in row 67, sentence 'Le ferite chirurgiche sono in ordine'. Skipping this row.\n",
            "Mismatch in row 69, sentence 'L'ecocardiogramma trans-toracico pre-dimissione evidenzia: In esiti di SVAO (protesi biologica Inspiris Resilia'. Skipping this row.\n",
            "Mismatch in row 70, sentence 'n.29) e sostituzione di radice aortica con protesi vascolare (Vascutek n.32), protesi aortica normofunzionante'. Skipping this row.\n",
            "Mismatch in row 72, sentence 'Funzione contrattile globale del ventricolo sinistro ai limiti inferiori di'. Skipping this row.\n",
            "Mismatch in row 73, sentence 'norma, in presenza di dissincronia settale'. Skipping this row.\n",
            "Mismatch in row 74, sentence 'PAPS: 25 mmHg'. Skipping this row.\n",
            "Mismatch in row 78, sentence 'stampato27/01/2025 10:53 Pag 2 / 7'. Skipping this row.\n",
            "Mismatch in row 80, sentence 'Data e ora della firma: 27/01/2025 10.53.30.'. Skipping this row.\n",
            "Mismatch in row 0, sentence 'RELAZIONE CLINICA alla DIMISSIONE - Definitiva'. Skipping this row.\n",
            "Mismatch in row 1, sentence 'endocavitarie , funzione contrattile globale lievemente ridotta .'. Skipping this row.\n",
            "Mismatch in row 2, sentence 'Vena cava inferiore di normali dimensioni con variabilità respiratoria conservata .'. Skipping this row.\n",
            "Mismatch in row 4, sentence 'CONCLUSIONI Buon esito SVAO e di sostituzione della radice aortica'. Skipping this row.\n",
            "Mismatch in row 5, sentence 'Gli esami di laboratorio di routine ( emocromo , funzionalità renale ed epatica , elettroliti ) alla dimissione sono risultati consoni con lo stato post-operatorio .'. Skipping this row.\n",
            "Mismatch in row 6, sentence 'Oltre a quanto sopra riportato , non sono stati eseguiti altri trattamenti farmacologici o di altro genere .'. Skipping this row.\n",
            "Mismatch in row 8, sentence 'Esami di laboratorio ( si segnalano gli esiti significativi )'. Skipping this row.\n",
            "Mismatch in row 12, sentence 'DSAN 035/4 convalidato'. Skipping this row.\n",
            "Mismatch in row 14, sentence 'stampato27/01/2025 10:53 Pag 3 / 7'. Skipping this row.\n",
            "Mismatch in row 15, sentence 'Referto firmato digitalmente secondo la norma vigente.(cid:9) Firmatario NASCIMBENE SIMONA IRENE ROSA .'. Skipping this row.\n",
            "Mismatch in row 1, sentence 'Esame/Prestazione Valore Unità di misura Intervallo Data'. Skipping this row.\n",
            "Mismatch in row 2, sentence 'URINE - U-Colore Giallo 20/01/2025'. Skipping this row.\n",
            "Mismatch in row 4, sentence 'DSAN 035/4 convalidato'. Skipping this row.\n",
            "Mismatch in row 6, sentence 'stampato27/01/2025 10:53 Pag 4 / 7'. Skipping this row.\n",
            "Mismatch in row 7, sentence 'Referto firmato digitalmente secondo la norma vigente.(cid:9) Firmatario NASCIMBENE SIMONA IRENE ROSA.'. Skipping this row.\n",
            "Mismatch in row 1, sentence 'Esame/Prestazione Valore Unità di misura Intervallo Data'. Skipping this row.\n",
            "Mismatch in row 4, sentence 'EMOCROMO - MCHC (Conc.Emoglobinica 336 g/L 310 - 360 27/01/2025'. Skipping this row.\n",
            "Mismatch in row 6, sentence 'DSAN 035/4 convalidato'. Skipping this row.\n",
            "Mismatch in row 8, sentence 'stampato27/01/2025 10:53 Pag 5 / 7'. Skipping this row.\n",
            "Mismatch in row 3, sentence 'Condizione cliniche alla dimissione'. Skipping this row.\n",
            "Mismatch in row 4, sentence 'Discrete condizioni generali.'. Skipping this row.\n",
            "Mismatch in row 6, sentence 'DSAN 035/4 convalidato'. Skipping this row.\n",
            "Mismatch in row 8, sentence 'stampato27/01/2025 10:53 Pag 6 / 7'. Skipping this row.\n",
            "Mismatch in row 9, sentence 'Referto firmato digitalmente secondo la norma vigente.(cid:9) Firmatario NASCIMBENE SIMONA IRENE ROSA.'. Skipping this row.\n",
            "Mismatch in row 10, sentence 'Data e ora della firma: 27/01/2025 10.53.30.'. Skipping this row.\n",
            "Mismatch in row 0, sentence 'RELAZIONE CLINICA alla DIMISSIONE - Definitiva'. Skipping this row.\n",
            "Mismatch in row 1, sentence 'I farmaci suggeriti possono essere validamente sostituiti, a discrezione e su prescrizione del medico curante, con farmaci generici a medesimo principio attivo, ove disponibili.'. Skipping this row.\n",
            "Mismatch in row 3, sentence 'Ringraziando per la fiducia, restiamo a disposizione per ogni eventuale chiarimento.'. Skipping this row.\n",
            "Mismatch in row 4, sentence 'Per ulteriori informazioni potrà contattarci chiamando i seguenti numeri: Segreteria 02.2643.7102 - 02.2643.7109 , FAX 02.2643.7125; Reparto 02.2643.7532 - 02.2643.7115.'. Skipping this row.\n",
            "Mismatch in row 5, sentence 'Si dichiara che in caso di necessità il paziente, trascorsi tre mesi dalla data dell'intervento, è idoneo ad eseguire l'esame di Risonanza Magnetica Nucleare (fino a 3 Tesla), in quanto i materiali usati non controindicano l'esame.'. Skipping this row.\n",
            "Mismatch in row 6, sentence 'Controlli successivi (salvo diversa indicazione del medico curante)'. Skipping this row.\n",
            "Mismatch in row 7, sentence 'Si consiglia controllo ambulatoriale tra circa un mese e mezzo (Centro Unico Prenotazioni: 02.2643.2436; FAX 02.2643.2567; prenotare la visita di controllo presso l'ufficio prenotazioni, Galleria delle Botteghe piano -1; oppure via email: ricoveri.ssn@hsr.it).'. Skipping this row.\n",
            "Mismatch in row 12, sentence 'Ringraziando per la fiducia, restiamo a disposizione per ogni eventuale chiarimento.'. Skipping this row.\n",
            "Mismatch in row 13, sentence 'Per ulteriori informazioni potrà contattarci chiamando i seguenti numeri di telefono, secondo le modalità indicate:'. Skipping this row.\n",
            "Mismatch in row 17, sentence 'Prof. F. Maisano'. Skipping this row.\n",
            "Mismatch in row 18, sentence 'Firma del paziente (o di chi ne fa le veci) per'. Skipping this row.\n",
            "Mismatch in row 21, sentence 'Prof. A. Castiglioni'. Skipping this row.\n",
            "Mismatch in row 22, sentence 'Prof. O. Alfieri'. Skipping this row.\n",
            "Mismatch in row 23, sentence 'Dr.ssa S. Nascimbene'. Skipping this row.\n",
            "Mismatch in row 24, sentence 'Dr.ssa M. Calabrese Timbro e firma del medico dimettente'. Skipping this row.\n",
            "Mismatch in row 25, sentence '(la firma digitale in calce, se presente, sostituisce la firma autografa)'. Skipping this row.\n",
            "Mismatch in row 26, sentence 'DSAN 035/4 convalidato'. Skipping this row.\n",
            "Mismatch in row 28, sentence 'stampato27/01/2025 10:53 Pag 7 / 7'. Skipping this row.\n",
            "Mismatch in row 30, sentence 'Data e ora della firma: 27/01/2025 10.53.30.'. Skipping this row.\n"
          ]
        },
        {
          "output_type": "execute_result",
          "data": {
            "text/plain": [
              "   #Sentence                   Word Label                            Sentence\n",
              "0          0           Dipartimento     O  Dipartimento Cardiotoracovascolare\n",
              "1          0  Cardiotoracovascolare     O  Dipartimento Cardiotoracovascolare\n",
              "2          1                   U.O.     O                U.O. Cardiochirurgia\n",
              "3          1        Cardiochirurgia     O                U.O. Cardiochirurgia\n",
              "4          4                 Milano     O              Milano , il 27/01/2025"
            ],
            "text/html": [
              "\n",
              "  <div id=\"df-1df93f16-6d6b-4019-bb2b-6f9c7a0a14d2\" class=\"colab-df-container\">\n",
              "    <div>\n",
              "<style scoped>\n",
              "    .dataframe tbody tr th:only-of-type {\n",
              "        vertical-align: middle;\n",
              "    }\n",
              "\n",
              "    .dataframe tbody tr th {\n",
              "        vertical-align: top;\n",
              "    }\n",
              "\n",
              "    .dataframe thead th {\n",
              "        text-align: right;\n",
              "    }\n",
              "</style>\n",
              "<table border=\"1\" class=\"dataframe\">\n",
              "  <thead>\n",
              "    <tr style=\"text-align: right;\">\n",
              "      <th></th>\n",
              "      <th>#Sentence</th>\n",
              "      <th>Word</th>\n",
              "      <th>Label</th>\n",
              "      <th>Sentence</th>\n",
              "    </tr>\n",
              "  </thead>\n",
              "  <tbody>\n",
              "    <tr>\n",
              "      <th>0</th>\n",
              "      <td>0</td>\n",
              "      <td>Dipartimento</td>\n",
              "      <td>O</td>\n",
              "      <td>Dipartimento Cardiotoracovascolare</td>\n",
              "    </tr>\n",
              "    <tr>\n",
              "      <th>1</th>\n",
              "      <td>0</td>\n",
              "      <td>Cardiotoracovascolare</td>\n",
              "      <td>O</td>\n",
              "      <td>Dipartimento Cardiotoracovascolare</td>\n",
              "    </tr>\n",
              "    <tr>\n",
              "      <th>2</th>\n",
              "      <td>1</td>\n",
              "      <td>U.O.</td>\n",
              "      <td>O</td>\n",
              "      <td>U.O. Cardiochirurgia</td>\n",
              "    </tr>\n",
              "    <tr>\n",
              "      <th>3</th>\n",
              "      <td>1</td>\n",
              "      <td>Cardiochirurgia</td>\n",
              "      <td>O</td>\n",
              "      <td>U.O. Cardiochirurgia</td>\n",
              "    </tr>\n",
              "    <tr>\n",
              "      <th>4</th>\n",
              "      <td>4</td>\n",
              "      <td>Milano</td>\n",
              "      <td>O</td>\n",
              "      <td>Milano , il 27/01/2025</td>\n",
              "    </tr>\n",
              "  </tbody>\n",
              "</table>\n",
              "</div>\n",
              "    <div class=\"colab-df-buttons\">\n",
              "\n",
              "  <div class=\"colab-df-container\">\n",
              "    <button class=\"colab-df-convert\" onclick=\"convertToInteractive('df-1df93f16-6d6b-4019-bb2b-6f9c7a0a14d2')\"\n",
              "            title=\"Convert this dataframe to an interactive table.\"\n",
              "            style=\"display:none;\">\n",
              "\n",
              "  <svg xmlns=\"http://www.w3.org/2000/svg\" height=\"24px\" viewBox=\"0 -960 960 960\">\n",
              "    <path d=\"M120-120v-720h720v720H120Zm60-500h600v-160H180v160Zm220 220h160v-160H400v160Zm0 220h160v-160H400v160ZM180-400h160v-160H180v160Zm440 0h160v-160H620v160ZM180-180h160v-160H180v160Zm440 0h160v-160H620v160Z\"/>\n",
              "  </svg>\n",
              "    </button>\n",
              "\n",
              "  <style>\n",
              "    .colab-df-container {\n",
              "      display:flex;\n",
              "      gap: 12px;\n",
              "    }\n",
              "\n",
              "    .colab-df-convert {\n",
              "      background-color: #E8F0FE;\n",
              "      border: none;\n",
              "      border-radius: 50%;\n",
              "      cursor: pointer;\n",
              "      display: none;\n",
              "      fill: #1967D2;\n",
              "      height: 32px;\n",
              "      padding: 0 0 0 0;\n",
              "      width: 32px;\n",
              "    }\n",
              "\n",
              "    .colab-df-convert:hover {\n",
              "      background-color: #E2EBFA;\n",
              "      box-shadow: 0px 1px 2px rgba(60, 64, 67, 0.3), 0px 1px 3px 1px rgba(60, 64, 67, 0.15);\n",
              "      fill: #174EA6;\n",
              "    }\n",
              "\n",
              "    .colab-df-buttons div {\n",
              "      margin-bottom: 4px;\n",
              "    }\n",
              "\n",
              "    [theme=dark] .colab-df-convert {\n",
              "      background-color: #3B4455;\n",
              "      fill: #D2E3FC;\n",
              "    }\n",
              "\n",
              "    [theme=dark] .colab-df-convert:hover {\n",
              "      background-color: #434B5C;\n",
              "      box-shadow: 0px 1px 3px 1px rgba(0, 0, 0, 0.15);\n",
              "      filter: drop-shadow(0px 1px 2px rgba(0, 0, 0, 0.3));\n",
              "      fill: #FFFFFF;\n",
              "    }\n",
              "  </style>\n",
              "\n",
              "    <script>\n",
              "      const buttonEl =\n",
              "        document.querySelector('#df-1df93f16-6d6b-4019-bb2b-6f9c7a0a14d2 button.colab-df-convert');\n",
              "      buttonEl.style.display =\n",
              "        google.colab.kernel.accessAllowed ? 'block' : 'none';\n",
              "\n",
              "      async function convertToInteractive(key) {\n",
              "        const element = document.querySelector('#df-1df93f16-6d6b-4019-bb2b-6f9c7a0a14d2');\n",
              "        const dataTable =\n",
              "          await google.colab.kernel.invokeFunction('convertToInteractive',\n",
              "                                                    [key], {});\n",
              "        if (!dataTable) return;\n",
              "\n",
              "        const docLinkHtml = 'Like what you see? Visit the ' +\n",
              "          '<a target=\"_blank\" href=https://colab.research.google.com/notebooks/data_table.ipynb>data table notebook</a>'\n",
              "          + ' to learn more about interactive tables.';\n",
              "        element.innerHTML = '';\n",
              "        dataTable['output_type'] = 'display_data';\n",
              "        await google.colab.output.renderOutput(dataTable, element);\n",
              "        const docLink = document.createElement('div');\n",
              "        docLink.innerHTML = docLinkHtml;\n",
              "        element.appendChild(docLink);\n",
              "      }\n",
              "    </script>\n",
              "  </div>\n",
              "\n",
              "\n",
              "<div id=\"df-3f4f9aca-b26a-4e7c-a77e-5224f78a6eb4\">\n",
              "  <button class=\"colab-df-quickchart\" onclick=\"quickchart('df-3f4f9aca-b26a-4e7c-a77e-5224f78a6eb4')\"\n",
              "            title=\"Suggest charts\"\n",
              "            style=\"display:none;\">\n",
              "\n",
              "<svg xmlns=\"http://www.w3.org/2000/svg\" height=\"24px\"viewBox=\"0 0 24 24\"\n",
              "     width=\"24px\">\n",
              "    <g>\n",
              "        <path d=\"M19 3H5c-1.1 0-2 .9-2 2v14c0 1.1.9 2 2 2h14c1.1 0 2-.9 2-2V5c0-1.1-.9-2-2-2zM9 17H7v-7h2v7zm4 0h-2V7h2v10zm4 0h-2v-4h2v4z\"/>\n",
              "    </g>\n",
              "</svg>\n",
              "  </button>\n",
              "\n",
              "<style>\n",
              "  .colab-df-quickchart {\n",
              "      --bg-color: #E8F0FE;\n",
              "      --fill-color: #1967D2;\n",
              "      --hover-bg-color: #E2EBFA;\n",
              "      --hover-fill-color: #174EA6;\n",
              "      --disabled-fill-color: #AAA;\n",
              "      --disabled-bg-color: #DDD;\n",
              "  }\n",
              "\n",
              "  [theme=dark] .colab-df-quickchart {\n",
              "      --bg-color: #3B4455;\n",
              "      --fill-color: #D2E3FC;\n",
              "      --hover-bg-color: #434B5C;\n",
              "      --hover-fill-color: #FFFFFF;\n",
              "      --disabled-bg-color: #3B4455;\n",
              "      --disabled-fill-color: #666;\n",
              "  }\n",
              "\n",
              "  .colab-df-quickchart {\n",
              "    background-color: var(--bg-color);\n",
              "    border: none;\n",
              "    border-radius: 50%;\n",
              "    cursor: pointer;\n",
              "    display: none;\n",
              "    fill: var(--fill-color);\n",
              "    height: 32px;\n",
              "    padding: 0;\n",
              "    width: 32px;\n",
              "  }\n",
              "\n",
              "  .colab-df-quickchart:hover {\n",
              "    background-color: var(--hover-bg-color);\n",
              "    box-shadow: 0 1px 2px rgba(60, 64, 67, 0.3), 0 1px 3px 1px rgba(60, 64, 67, 0.15);\n",
              "    fill: var(--button-hover-fill-color);\n",
              "  }\n",
              "\n",
              "  .colab-df-quickchart-complete:disabled,\n",
              "  .colab-df-quickchart-complete:disabled:hover {\n",
              "    background-color: var(--disabled-bg-color);\n",
              "    fill: var(--disabled-fill-color);\n",
              "    box-shadow: none;\n",
              "  }\n",
              "\n",
              "  .colab-df-spinner {\n",
              "    border: 2px solid var(--fill-color);\n",
              "    border-color: transparent;\n",
              "    border-bottom-color: var(--fill-color);\n",
              "    animation:\n",
              "      spin 1s steps(1) infinite;\n",
              "  }\n",
              "\n",
              "  @keyframes spin {\n",
              "    0% {\n",
              "      border-color: transparent;\n",
              "      border-bottom-color: var(--fill-color);\n",
              "      border-left-color: var(--fill-color);\n",
              "    }\n",
              "    20% {\n",
              "      border-color: transparent;\n",
              "      border-left-color: var(--fill-color);\n",
              "      border-top-color: var(--fill-color);\n",
              "    }\n",
              "    30% {\n",
              "      border-color: transparent;\n",
              "      border-left-color: var(--fill-color);\n",
              "      border-top-color: var(--fill-color);\n",
              "      border-right-color: var(--fill-color);\n",
              "    }\n",
              "    40% {\n",
              "      border-color: transparent;\n",
              "      border-right-color: var(--fill-color);\n",
              "      border-top-color: var(--fill-color);\n",
              "    }\n",
              "    60% {\n",
              "      border-color: transparent;\n",
              "      border-right-color: var(--fill-color);\n",
              "    }\n",
              "    80% {\n",
              "      border-color: transparent;\n",
              "      border-right-color: var(--fill-color);\n",
              "      border-bottom-color: var(--fill-color);\n",
              "    }\n",
              "    90% {\n",
              "      border-color: transparent;\n",
              "      border-bottom-color: var(--fill-color);\n",
              "    }\n",
              "  }\n",
              "</style>\n",
              "\n",
              "  <script>\n",
              "    async function quickchart(key) {\n",
              "      const quickchartButtonEl =\n",
              "        document.querySelector('#' + key + ' button');\n",
              "      quickchartButtonEl.disabled = true;  // To prevent multiple clicks.\n",
              "      quickchartButtonEl.classList.add('colab-df-spinner');\n",
              "      try {\n",
              "        const charts = await google.colab.kernel.invokeFunction(\n",
              "            'suggestCharts', [key], {});\n",
              "      } catch (error) {\n",
              "        console.error('Error during call to suggestCharts:', error);\n",
              "      }\n",
              "      quickchartButtonEl.classList.remove('colab-df-spinner');\n",
              "      quickchartButtonEl.classList.add('colab-df-quickchart-complete');\n",
              "    }\n",
              "    (() => {\n",
              "      let quickchartButtonEl =\n",
              "        document.querySelector('#df-3f4f9aca-b26a-4e7c-a77e-5224f78a6eb4 button');\n",
              "      quickchartButtonEl.style.display =\n",
              "        google.colab.kernel.accessAllowed ? 'block' : 'none';\n",
              "    })();\n",
              "  </script>\n",
              "</div>\n",
              "\n",
              "    </div>\n",
              "  </div>\n"
            ],
            "application/vnd.google.colaboratory.intrinsic+json": {
              "type": "dataframe",
              "variable_name": "new_df",
              "summary": "{\n  \"name\": \"new_df\",\n  \"rows\": 491,\n  \"fields\": [\n    {\n      \"column\": \"#Sentence\",\n      \"properties\": {\n        \"dtype\": \"number\",\n        \"std\": 21,\n        \"min\": 0,\n        \"max\": 79,\n        \"num_unique_values\": 55,\n        \"samples\": [\n          12,\n          8,\n          25\n        ],\n        \"semantic_type\": \"\",\n        \"description\": \"\"\n      }\n    },\n    {\n      \"column\": \"Word\",\n      \"properties\": {\n        \"dtype\": \"string\",\n        \"num_unique_values\": 303,\n        \"samples\": [\n          \"flow\",\n          \"convalidato\",\n          \"sincopi\"\n        ],\n        \"semantic_type\": \"\",\n        \"description\": \"\"\n      }\n    },\n    {\n      \"column\": \"Label\",\n      \"properties\": {\n        \"dtype\": \"category\",\n        \"num_unique_values\": 9,\n        \"samples\": [\n          \"B_ESAME\",\n          \"B_OPERAZIONE\",\n          \"B_PROBLEMA\"\n        ],\n        \"semantic_type\": \"\",\n        \"description\": \"\"\n      }\n    },\n    {\n      \"column\": \"Sentence\",\n      \"properties\": {\n        \"dtype\": \"category\",\n        \"num_unique_values\": 91,\n        \"samples\": [\n          \"Alterata texture miocardica come da cardiopatia valvolare evoluta\",\n          \"ridotta apertura , valvola bicuspide .\",\n          \"Altre Opacizzazioni: Aortografia\"\n        ],\n        \"semantic_type\": \"\",\n        \"description\": \"\"\n      }\n    }\n  ]\n}"
            }
          },
          "metadata": {},
          "execution_count": 109
        }
      ]
    },
    {
      "cell_type": "code",
      "source": [
        "new_df.info()"
      ],
      "metadata": {
        "colab": {
          "base_uri": "https://localhost:8080/"
        },
        "id": "9xVBaDWYCI9N",
        "outputId": "2849d648-0ff4-4c32-b06e-e47c81690f40"
      },
      "execution_count": 110,
      "outputs": [
        {
          "output_type": "stream",
          "name": "stdout",
          "text": [
            "<class 'pandas.core.frame.DataFrame'>\n",
            "RangeIndex: 491 entries, 0 to 490\n",
            "Data columns (total 4 columns):\n",
            " #   Column     Non-Null Count  Dtype \n",
            "---  ------     --------------  ----- \n",
            " 0   #Sentence  491 non-null    int64 \n",
            " 1   Word       491 non-null    object\n",
            " 2   Label      491 non-null    object\n",
            " 3   Sentence   491 non-null    object\n",
            "dtypes: int64(1), object(3)\n",
            "memory usage: 15.5+ KB\n"
          ]
        }
      ]
    },
    {
      "cell_type": "code",
      "source": [
        "print(f\"Number of tags:{len(new_df['Label'].unique())}\")\n",
        "frequencies = new_df['Label'].value_counts()\n",
        "frequencies"
      ],
      "metadata": {
        "colab": {
          "base_uri": "https://localhost:8080/",
          "height": 416
        },
        "id": "SjDA4U1ICRT3",
        "outputId": "4f40c506-5beb-43a0-f428-d56e7c94c50b"
      },
      "execution_count": 111,
      "outputs": [
        {
          "output_type": "stream",
          "name": "stdout",
          "text": [
            "Number of tags:9\n"
          ]
        },
        {
          "output_type": "execute_result",
          "data": {
            "text/plain": [
              "Label\n",
              "O               405\n",
              "B_PROBLEMA       25\n",
              "I_PROBLEMA       24\n",
              "B_ESAME          13\n",
              "I_ESAME          12\n",
              "I_OPERAZIONE      4\n",
              "B_OPERAZIONE      4\n",
              "B_FARMACI         3\n",
              "I_FARMACI         1\n",
              "Name: count, dtype: int64"
            ],
            "text/html": [
              "<div>\n",
              "<style scoped>\n",
              "    .dataframe tbody tr th:only-of-type {\n",
              "        vertical-align: middle;\n",
              "    }\n",
              "\n",
              "    .dataframe tbody tr th {\n",
              "        vertical-align: top;\n",
              "    }\n",
              "\n",
              "    .dataframe thead th {\n",
              "        text-align: right;\n",
              "    }\n",
              "</style>\n",
              "<table border=\"1\" class=\"dataframe\">\n",
              "  <thead>\n",
              "    <tr style=\"text-align: right;\">\n",
              "      <th></th>\n",
              "      <th>count</th>\n",
              "    </tr>\n",
              "    <tr>\n",
              "      <th>Label</th>\n",
              "      <th></th>\n",
              "    </tr>\n",
              "  </thead>\n",
              "  <tbody>\n",
              "    <tr>\n",
              "      <th>O</th>\n",
              "      <td>405</td>\n",
              "    </tr>\n",
              "    <tr>\n",
              "      <th>B_PROBLEMA</th>\n",
              "      <td>25</td>\n",
              "    </tr>\n",
              "    <tr>\n",
              "      <th>I_PROBLEMA</th>\n",
              "      <td>24</td>\n",
              "    </tr>\n",
              "    <tr>\n",
              "      <th>B_ESAME</th>\n",
              "      <td>13</td>\n",
              "    </tr>\n",
              "    <tr>\n",
              "      <th>I_ESAME</th>\n",
              "      <td>12</td>\n",
              "    </tr>\n",
              "    <tr>\n",
              "      <th>I_OPERAZIONE</th>\n",
              "      <td>4</td>\n",
              "    </tr>\n",
              "    <tr>\n",
              "      <th>B_OPERAZIONE</th>\n",
              "      <td>4</td>\n",
              "    </tr>\n",
              "    <tr>\n",
              "      <th>B_FARMACI</th>\n",
              "      <td>3</td>\n",
              "    </tr>\n",
              "    <tr>\n",
              "      <th>I_FARMACI</th>\n",
              "      <td>1</td>\n",
              "    </tr>\n",
              "  </tbody>\n",
              "</table>\n",
              "</div><br><label><b>dtype:</b> int64</label>"
            ]
          },
          "metadata": {},
          "execution_count": 111
        }
      ]
    },
    {
      "cell_type": "code",
      "source": [
        "tags = {}\n",
        "for tag, count in zip(frequencies.index, frequencies):\n",
        "    if tag != \"O\":\n",
        "        if tag[2:5] not in tags.keys():\n",
        "            tags[tag[2:]] = count\n",
        "        else:\n",
        "            tags[tag[2:]] += count\n",
        "    continue\n",
        "\n",
        "print(sorted(tags.items(), key=lambda x: x[1], reverse=True))"
      ],
      "metadata": {
        "colab": {
          "base_uri": "https://localhost:8080/"
        },
        "id": "Eo-xdxMaFbfW",
        "outputId": "debd6db1-31b1-4469-9ffd-093e5564eb19"
      },
      "execution_count": 112,
      "outputs": [
        {
          "output_type": "stream",
          "name": "stdout",
          "text": [
            "[('PROBLEMA', 24), ('ESAME', 12), ('OPERAZIONE', 4), ('FARMACI', 1)]\n"
          ]
        }
      ]
    },
    {
      "cell_type": "code",
      "source": [
        "# Extract labels and values\n",
        "labels = list(tags.keys())\n",
        "values = list(tags.values())\n",
        "\n",
        "# Plot the histogram\n",
        "plt.figure(figsize=(10, 5))\n",
        "plt.bar(labels, values, color=\"blue\")\n",
        "\n",
        "# Add labels and title\n",
        "plt.xlabel(\"Entity Types\")\n",
        "plt.ylabel(\"Frequencies\")\n",
        "plt.title(\"Frequency of Named Entity Types\")\n",
        "plt.xticks(rotation=45)  # Rotate x-axis labels for better readability\n",
        "\n",
        "# Show the histogram\n",
        "plt.show()"
      ],
      "metadata": {
        "colab": {
          "base_uri": "https://localhost:8080/",
          "height": 547
        },
        "id": "uhMOUTm_FtjE",
        "outputId": "6c4f7cce-19d4-4abb-b1ea-e3d7d7270cc6"
      },
      "execution_count": 113,
      "outputs": [
        {
          "output_type": "display_data",
          "data": {
            "text/plain": [
              "<Figure size 1000x500 with 1 Axes>"
            ],
            "image/png": "[encoded data removed]"
          },
          "metadata": {}
        }
      ]
    },
    {
      "cell_type": "code",
      "source": [
        "# Fill NaN values in 'Sentence #' by forward filling (so each word has a sentence number)\n",
        "new_df[\"#Sentence\"] = new_df[\"#Sentence\"].ffill()\n",
        "\n",
        "# Count named entities per sentence (Tags that are not 'O')\n",
        "entity_counts = new_df[new_df[\"Label\"] != \"0\"].groupby(\"#Sentence\").size()\n",
        "\n",
        "# Display summary statistics and first few counts\n",
        "entity_counts.describe(), entity_counts.head()"
      ],
      "metadata": {
        "colab": {
          "base_uri": "https://localhost:8080/"
        },
        "id": "r_n-5bD1GLak",
        "outputId": "308f11f7-8b1e-46d7-93c9-3aa472b73cae"
      },
      "execution_count": 114,
      "outputs": [
        {
          "output_type": "execute_result",
          "data": {
            "text/plain": [
              "(count    55.000000\n",
              " mean      8.927273\n",
              " std       6.962478\n",
              " min       1.000000\n",
              " 25%       4.500000\n",
              " 50%       8.000000\n",
              " 75%      11.000000\n",
              " max      30.000000\n",
              " dtype: float64,\n",
              " #Sentence\n",
              " 0    26\n",
              " 1    11\n",
              " 2    15\n",
              " 3     6\n",
              " 4     9\n",
              " dtype: int64)"
            ]
          },
          "metadata": {},
          "execution_count": 114
        }
      ]
    },
    {
      "cell_type": "code",
      "source": [
        "# Set up the plot\n",
        "plt.figure(figsize=(10, 6))\n",
        "\n",
        "# Plot histogram\n",
        "sns.histplot(entity_counts, bins=30, kde=True, stat=\"density\", color=\"blue\", alpha=0.6, label=\"Observed Data\")\n",
        "\n",
        "# Fit and plot the exponential distribution\n",
        "lambda_param = 1 / entity_counts.mean()  # Exponential distribution parameter (1/mean)\n",
        "x = np.linspace(0, entity_counts.max(), 100)\n",
        "y = lambda_param * np.exp(-lambda_param * x)\n",
        "plt.plot(x, y, color=\"red\", label=\"Exponential Fit\")\n",
        "\n",
        "# Labels and title\n",
        "plt.xlabel(\"Named Entities per Sentence\")\n",
        "plt.ylabel(\"Density\")\n",
        "plt.title(\"Exponential Distribution of Named Entities per Sentence\")\n",
        "plt.legend()\n",
        "plt.grid()\n",
        "\n",
        "# Show the plot\n",
        "plt.show()"
      ],
      "metadata": {
        "colab": {
          "base_uri": "https://localhost:8080/",
          "height": 564
        },
        "id": "zh2zaiYPGXUJ",
        "outputId": "23bc6219-5b19-4a9c-ca76-ac322306d680"
      },
      "execution_count": 115,
      "outputs": [
        {
          "output_type": "display_data",
          "data": {
            "text/plain": [
              "<Figure size 1000x600 with 1 Axes>"
            ],
            "image/png": "[encoded data removed]"
          },
          "metadata": {}
        }
      ]
    },
    {
      "cell_type": "markdown",
      "source": [
        "## Divide dataset in train-test"
      ],
      "metadata": {
        "id": "SeCpz6CoOlXe"
      }
    },
    {
      "cell_type": "code",
      "source": [
        "train_size = 0.8\n",
        "train_dataset = df_dataset_IOB_2.sample(frac=train_size,random_state=200)\n",
        "test_dataset = df_dataset_IOB_2.drop(train_dataset.index).reset_index(drop=True)\n",
        "train_dataset = train_dataset.reset_index(drop=True)\n",
        "\n",
        "print(\"FULL Dataset: {}\".format(df_dataset_IOB_2.shape))\n",
        "print(\"TRAIN Dataset: {}\".format(train_dataset.shape))\n",
        "print(\"TEST Dataset: {}\".format(test_dataset.shape))"
      ],
      "metadata": {
        "colab": {
          "base_uri": "https://localhost:8080/"
        },
        "id": "hGu6Aa--O92P",
        "outputId": "cb7624b9-5820-4225-ef2f-00a112ee2b58"
      },
      "execution_count": 118,
      "outputs": [
        {
          "output_type": "stream",
          "name": "stdout",
          "text": [
            "FULL Dataset: (208, 2)\n",
            "TRAIN Dataset: (166, 2)\n",
            "TEST Dataset: (4, 2)\n"
          ]
        }
      ]
    },
    {
      "cell_type": "markdown",
      "source": [
        "### Save Dataset"
      ],
      "metadata": {
        "id": "g_JeMjknP0m4"
      }
    },
    {
      "cell_type": "code",
      "source": [
        "df_dataset_IOB_2.to_csv('/content/drive/MyDrive/Nlp/data/dataset_gemini.csv', index=False, encoding='utf-8')"
      ],
      "metadata": {
        "id": "nepmoAvwPXbR"
      },
      "execution_count": 120,
      "outputs": []
    },
    {
      "cell_type": "code",
      "source": [
        "new_df.to_csv('/content/drive/MyDrive/Nlp/data/augmented_dataset_gemini.csv', index=False, encoding='utf-8')"
      ],
      "metadata": {
        "id": "R_dTYfKcPZoa"
      },
      "execution_count": 121,
      "outputs": []
    },
    {
      "cell_type": "code",
      "source": [
        "train_dataset.to_csv('/content/drive/MyDrive/Nlp/data/training_gemini.csv', index=False, encoding='utf-8')"
      ],
      "metadata": {
        "id": "UjUJG8PRPbaK"
      },
      "execution_count": 122,
      "outputs": []
    },
    {
      "cell_type": "code",
      "source": [
        "test_dataset.to_csv('/content/drive/MyDrive/Nlp/data/test_gemini.csv', index=False, encoding='utf-8')"
      ],
      "metadata": {
        "id": "lVjAc-VdPdNT"
      },
      "execution_count": 123,
      "outputs": []
    }
  ]
}